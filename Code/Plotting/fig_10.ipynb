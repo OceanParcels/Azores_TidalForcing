{
 "cells": [
  {
   "cell_type": "code",
   "execution_count": 1,
   "metadata": {},
   "outputs": [],
   "source": [
    "%matplotlib inline\n",
    "from datetime import timedelta, datetime\n",
    "import xarray as xr\n",
    "import numpy as np\n",
    "import matplotlib.pyplot as plt\n",
    "import matplotlib\n"
   ]
  },
  {
   "cell_type": "code",
   "execution_count": 2,
   "metadata": {},
   "outputs": [],
   "source": [
    "filedir_root = \"/storage/shared/oceanparcels/output_data/data_LauraGN/outputs_parcels/Azores/eNATL60/bFTLEs/\""
   ]
  },
  {
   "cell_type": "markdown",
   "metadata": {},
   "source": [
    "# Distances:"
   ]
  },
  {
   "cell_type": "code",
   "execution_count": 3,
   "metadata": {},
   "outputs": [],
   "source": [
    "width = 0.35  # the width of the bars\n",
    "labels = ['Jul. 2009', 'Aug. 2009', 'Sep. 2009', 'Oct. 2009', 'Nov. 2009', 'Dec. 2009', 'Jan. 2010', 'Feb. 2010', 'Mar. 2010', 'Apr. 2010', 'May. 2010', 'Jun. 2010'] \n",
    "x = np.arange(len(labels))  # the label locations\n"
   ]
  },
  {
   "cell_type": "markdown",
   "metadata": {
    "tags": []
   },
   "source": [
    "## Loading cumulative dist:"
   ]
  },
  {
   "cell_type": "code",
   "execution_count": 4,
   "metadata": {},
   "outputs": [],
   "source": [
    "filedir = '/storage/shared/oceanparcels/output_data/data_LauraGN/outputs_parcels/Azores/eNATL60/'"
   ]
  },
  {
   "cell_type": "code",
   "execution_count": 5,
   "metadata": {},
   "outputs": [],
   "source": [
    "distance_Jul_nT = xr.open_dataset(filedir + 'dist_km_Jul_nT.nc')\n",
    "distance_Aug_nT = xr.open_dataset(filedir + 'dist_km_Aug_nT.nc')\n",
    "distance_Sep_nT = xr.open_dataset(filedir + 'dist_km_Sep_nT.nc')\n",
    "distance_Oct_nT = xr.open_dataset(filedir + 'dist_km_Oct_nT.nc')\n",
    "distance_Nov_nT = xr.open_dataset(filedir + 'dist_km_Nov_nT.nc')\n",
    "distance_Dec_nT = xr.open_dataset(filedir + 'dist_km_Dec_nT.nc')\n",
    "distance_Jan_nT = xr.open_dataset(filedir + 'dist_km_Jan_nT.nc')\n",
    "distance_Feb_nT = xr.open_dataset(filedir + 'dist_km_Feb_nT.nc')\n",
    "distance_Mar_nT = xr.open_dataset(filedir + 'dist_km_Mar_nT.nc')\n",
    "distance_Apr_nT = xr.open_dataset(filedir + 'dist_km_Apr_nT.nc')\n",
    "distance_May_nT = xr.open_dataset(filedir + 'dist_km_May_nT.nc')\n",
    "distance_Jun_nT = xr.open_dataset(filedir + 'dist_km_Jun_nT.nc')\n"
   ]
  },
  {
   "cell_type": "code",
   "execution_count": 6,
   "metadata": {},
   "outputs": [],
   "source": [
    "distance_Jul_wT = xr.open_dataset(filedir + 'dist_km_Jul_wT.nc')\n",
    "distance_Aug_wT = xr.open_dataset(filedir + 'dist_km_Aug_wT.nc')\n",
    "distance_Sep_wT = xr.open_dataset(filedir + 'dist_km_Sep_wT.nc')\n",
    "distance_Oct_wT = xr.open_dataset(filedir + 'dist_km_Oct_wT.nc')\n",
    "distance_Nov_wT = xr.open_dataset(filedir + 'dist_km_Nov_wT.nc')\n",
    "distance_Dec_wT = xr.open_dataset(filedir + 'dist_km_Dec_wT.nc')\n",
    "distance_Jan_wT = xr.open_dataset(filedir + 'dist_km_Jan_wT.nc')\n",
    "distance_Feb_wT = xr.open_dataset(filedir + 'dist_km_Feb_wT.nc')\n",
    "distance_Mar_wT = xr.open_dataset(filedir + 'dist_km_Mar_wT.nc')\n",
    "distance_Apr_wT = xr.open_dataset(filedir + 'dist_km_Apr_wT.nc')\n",
    "distance_May_wT = xr.open_dataset(filedir + 'dist_km_May_wT.nc')\n",
    "distance_Jun_wT = xr.open_dataset(filedir + 'dist_km_Jun_wT.nc')\n"
   ]
  },
  {
   "cell_type": "code",
   "execution_count": 7,
   "metadata": {},
   "outputs": [],
   "source": [
    "cum_distance_nT = [distance_Jul_nT.to_array()[0].cumsum(dim='obs'), distance_Aug_nT.to_array()[0].cumsum(dim='obs'), distance_Sep_nT.to_array()[0].cumsum(dim='obs'), distance_Oct_nT.to_array()[0].cumsum(dim='obs'), distance_Nov_nT.to_array()[0].cumsum(dim='obs'), distance_Dec_nT.to_array()[0].cumsum(dim='obs'),\n",
    "                   distance_Jan_nT.to_array()[0].cumsum(dim='obs'), distance_Feb_nT.to_array()[0].cumsum(dim='obs'), distance_Mar_nT.to_array()[0].cumsum(dim='obs'), distance_Apr_nT.to_array()[0].cumsum(dim='obs'), distance_May_nT.to_array()[0].cumsum(dim='obs'), distance_Jun_nT.to_array()[0].cumsum(dim='obs')]"
   ]
  },
  {
   "cell_type": "code",
   "execution_count": 8,
   "metadata": {},
   "outputs": [],
   "source": [
    "cum_distance_wT = [distance_Jul_wT.to_array()[0].cumsum(dim='obs'), distance_Aug_wT.to_array()[0].cumsum(dim='obs'), distance_Sep_wT.to_array()[0].cumsum(dim='obs'), distance_Oct_wT.to_array()[0].cumsum(dim='obs'), distance_Nov_wT.to_array()[0].cumsum(dim='obs'), distance_Dec_wT.to_array()[0].cumsum(dim='obs'),\n",
    "                   distance_Jan_wT.to_array()[0].cumsum(dim='obs'), distance_Feb_wT.to_array()[0].cumsum(dim='obs'), distance_Mar_wT.to_array()[0].cumsum(dim='obs'), distance_Apr_wT.to_array()[0].cumsum(dim='obs'), distance_May_wT.to_array()[0].cumsum(dim='obs'), distance_Jun_wT.to_array()[0].cumsum(dim='obs')]"
   ]
  },
  {
   "cell_type": "code",
   "execution_count": 9,
   "metadata": {},
   "outputs": [],
   "source": [
    "dist_cum_a = []\n",
    "dist_cum_b = []\n",
    "\n",
    "for ii in range(0, len(labels)):\n",
    "    aa = ((cum_distance_nT[ii].max(dim='obs')).where(cum_distance_nT[ii].max(dim='obs') != 0., drop=True)).data\n",
    "    dist_cum_a.append(aa) #= (distance_nT[ii].max(dim='obs')).where(distance_nT[ii].max(dim='obs') != 0., drop=True)\n",
    "    bb = ((cum_distance_wT[ii].max(dim='obs')).where(cum_distance_wT[ii].max(dim='obs') != 0., drop=True)).data\n",
    "    dist_cum_b.append(bb) \n",
    "    "
   ]
  },
  {
   "cell_type": "markdown",
   "metadata": {
    "tags": []
   },
   "source": [
    "## Loading total dist:"
   ]
  },
  {
   "cell_type": "code",
   "execution_count": 10,
   "metadata": {},
   "outputs": [],
   "source": [
    "filedir_t = '/storage/shared/oceanparcels/output_data/data_LauraGN/outputs_parcels/Azores/eNATL60/dist_tot_km/'"
   ]
  },
  {
   "cell_type": "code",
   "execution_count": 11,
   "metadata": {},
   "outputs": [],
   "source": [
    "dist_tot_km_nT_Jul = xr.open_dataset(filedir_t + 'dist_tot_km_nT_Jul.nc')\n",
    "dist_tot_km_nT_Aug = xr.open_dataset(filedir_t + 'dist_tot_km_nT_Aug.nc')\n",
    "dist_tot_km_nT_Sep = xr.open_dataset(filedir_t + 'dist_tot_km_nT_Sep.nc')\n",
    "dist_tot_km_nT_Oct = xr.open_dataset(filedir_t + 'dist_tot_km_nT_Oct.nc')\n",
    "dist_tot_km_nT_Nov = xr.open_dataset(filedir_t + 'dist_tot_km_nT_Nov.nc')\n",
    "dist_tot_km_nT_Dec = xr.open_dataset(filedir_t + 'dist_tot_km_nT_Dec.nc')\n",
    "dist_tot_km_nT_Jan = xr.open_dataset(filedir_t + 'dist_tot_km_nT_Jan.nc')\n",
    "dist_tot_km_nT_Feb = xr.open_dataset(filedir_t + 'dist_tot_km_nT_Feb.nc')\n",
    "dist_tot_km_nT_Mar = xr.open_dataset(filedir_t + 'dist_tot_km_nT_Mar.nc')\n",
    "dist_tot_km_nT_Apr = xr.open_dataset(filedir_t + 'dist_tot_km_nT_Apr.nc')\n",
    "dist_tot_km_nT_May = xr.open_dataset(filedir_t + 'dist_tot_km_nT_May.nc')\n",
    "dist_tot_km_nT_Jun = xr.open_dataset(filedir_t + 'dist_tot_km_nT_Jun.nc')"
   ]
  },
  {
   "cell_type": "code",
   "execution_count": 12,
   "metadata": {},
   "outputs": [],
   "source": [
    "dist_tot_km_wT_Jul = xr.open_dataset(filedir_t + 'dist_tot_km_wT_Jul.nc')\n",
    "dist_tot_km_wT_Aug = xr.open_dataset(filedir_t + 'dist_tot_km_wT_Aug.nc')\n",
    "dist_tot_km_wT_Sep = xr.open_dataset(filedir_t + 'dist_tot_km_wT_Sep.nc')\n",
    "dist_tot_km_wT_Oct = xr.open_dataset(filedir_t + 'dist_tot_km_wT_Oct.nc')\n",
    "dist_tot_km_wT_Nov = xr.open_dataset(filedir_t + 'dist_tot_km_wT_Nov.nc')\n",
    "dist_tot_km_wT_Dec = xr.open_dataset(filedir_t + 'dist_tot_km_wT_Dec.nc')\n",
    "dist_tot_km_wT_Jan = xr.open_dataset(filedir_t + 'dist_tot_km_wT_Jan.nc')\n",
    "dist_tot_km_wT_Feb = xr.open_dataset(filedir_t + 'dist_tot_km_wT_Feb.nc')\n",
    "dist_tot_km_wT_Mar = xr.open_dataset(filedir_t + 'dist_tot_km_wT_Mar.nc')\n",
    "dist_tot_km_wT_Apr = xr.open_dataset(filedir_t + 'dist_tot_km_wT_Apr.nc')\n",
    "dist_tot_km_wT_May = xr.open_dataset(filedir_t + 'dist_tot_km_wT_May.nc')\n",
    "dist_tot_km_wT_Jun = xr.open_dataset(filedir_t + 'dist_tot_km_wT_Jun.nc')\n"
   ]
  },
  {
   "cell_type": "code",
   "execution_count": 13,
   "metadata": {},
   "outputs": [],
   "source": [
    "dist_tot_km_nT = [dist_tot_km_nT_Jul, dist_tot_km_nT_Aug, dist_tot_km_nT_Sep, dist_tot_km_nT_Oct, dist_tot_km_nT_Nov, dist_tot_km_nT_Dec, \n",
    "                  dist_tot_km_nT_Jan, dist_tot_km_nT_Feb, dist_tot_km_nT_Mar, dist_tot_km_nT_Apr, dist_tot_km_nT_May, dist_tot_km_nT_Jun]"
   ]
  },
  {
   "cell_type": "code",
   "execution_count": 14,
   "metadata": {},
   "outputs": [],
   "source": [
    "dist_tot_km_wT = [dist_tot_km_wT_Jul, dist_tot_km_wT_Aug, dist_tot_km_wT_Sep, dist_tot_km_wT_Oct, dist_tot_km_wT_Nov, dist_tot_km_wT_Dec, \n",
    "                  dist_tot_km_wT_Jan, dist_tot_km_wT_Feb, dist_tot_km_wT_Mar, dist_tot_km_wT_Apr, dist_tot_km_wT_May, dist_tot_km_wT_Jun]"
   ]
  },
  {
   "cell_type": "code",
   "execution_count": 15,
   "metadata": {},
   "outputs": [],
   "source": [
    "dist_tot_nT = []\n",
    "dist_tot_wT = []\n",
    "\n",
    "for ii in range(0, len(labels)):\n",
    "    aa = (dist_tot_km_nT[ii].lon.where(dist_tot_km_nT[ii].lon!=0, drop=True)).data\n",
    "    dist_tot_nT.append(aa) \n",
    "    bb = (dist_tot_km_wT[ii].lon.where(dist_tot_km_wT[ii].lon!=0, drop=True)).data\n",
    "    dist_tot_wT.append(bb) "
   ]
  },
  {
   "cell_type": "markdown",
   "metadata": {},
   "source": [
    "## Getting median values:"
   ]
  },
  {
   "cell_type": "code",
   "execution_count": 16,
   "metadata": {},
   "outputs": [],
   "source": [
    "med_nT_cum = np.ones((12,1)) * np.nan\n",
    "med_wT_cum = np.ones((12,1)) * np.nan\n",
    "med_nT_tot = np.ones((12,1)) * np.nan\n",
    "med_wT_tot = np.ones((12,1)) * np.nan\n",
    "\n",
    "for ii in range(0,12) : \n",
    "    med_nT_cum[ii] = np.median(dist_cum_a[ii])\n",
    "    med_wT_cum[ii] = np.median(dist_cum_b[ii])\n",
    "    med_nT_tot[ii] = np.median(dist_tot_nT[ii])\n",
    "    med_wT_tot[ii] = np.median(dist_tot_wT[ii])"
   ]
  },
  {
   "cell_type": "markdown",
   "metadata": {},
   "source": [
    "## Diffs in median values:"
   ]
  },
  {
   "cell_type": "code",
   "execution_count": 17,
   "metadata": {},
   "outputs": [],
   "source": [
    "cum_dist_diff_nT_wT_n = ((med_wT_cum - med_nT_cum) / med_nT_cum) * 100\n"
   ]
  },
  {
   "cell_type": "code",
   "execution_count": 18,
   "metadata": {},
   "outputs": [
    {
     "data": {
      "text/plain": [
       "array([[19.80874162],\n",
       "       [24.76799229],\n",
       "       [20.53769217],\n",
       "       [15.80341937],\n",
       "       [12.84811164],\n",
       "       [11.70896359],\n",
       "       [ 5.8492576 ],\n",
       "       [ 3.74907795],\n",
       "       [ 4.57885321],\n",
       "       [ 8.01723845],\n",
       "       [11.02681397],\n",
       "       [ 9.52549734]])"
      ]
     },
     "execution_count": 18,
     "metadata": {},
     "output_type": "execute_result"
    }
   ],
   "source": [
    "cum_dist_diff_nT_wT_n"
   ]
  },
  {
   "cell_type": "code",
   "execution_count": 19,
   "metadata": {},
   "outputs": [],
   "source": [
    "tot_dist_diff_nT_wT_n = ((med_wT_tot - med_nT_tot) / med_nT_tot) * 100\n"
   ]
  },
  {
   "cell_type": "code",
   "execution_count": 20,
   "metadata": {},
   "outputs": [
    {
     "data": {
      "text/plain": [
       "array([[-3.43641571],\n",
       "       [-2.7053165 ],\n",
       "       [-2.79968554],\n",
       "       [-3.16826453],\n",
       "       [-4.98895815],\n",
       "       [-4.86772989],\n",
       "       [-3.81361728],\n",
       "       [-1.37475183],\n",
       "       [-2.00114669],\n",
       "       [ 0.53341928],\n",
       "       [-0.75694812],\n",
       "       [-1.1669378 ]])"
      ]
     },
     "execution_count": 20,
     "metadata": {},
     "output_type": "execute_result"
    }
   ],
   "source": [
    "tot_dist_diff_nT_wT_n"
   ]
  },
  {
   "cell_type": "code",
   "execution_count": 21,
   "metadata": {},
   "outputs": [
    {
     "data": {
      "text/plain": [
       "4"
      ]
     },
     "execution_count": 21,
     "metadata": {},
     "output_type": "execute_result"
    }
   ],
   "source": [
    "np.argmin(tot_dist_diff_nT_wT_n)"
   ]
  },
  {
   "cell_type": "code",
   "execution_count": 22,
   "metadata": {},
   "outputs": [
    {
     "data": {
      "text/plain": [
       "array([111.61580055])"
      ]
     },
     "execution_count": 22,
     "metadata": {},
     "output_type": "execute_result"
    }
   ],
   "source": [
    "(tot_dist_diff_nT_wT_n[-2][0] * -1) * (med_nT_tot[-2])"
   ]
  },
  {
   "cell_type": "code",
   "execution_count": 23,
   "metadata": {},
   "outputs": [
    {
     "data": {
      "text/plain": [
       "array([[ 3.5587077 ],\n",
       "       [ 2.78053888],\n",
       "       [ 2.8803256 ],\n",
       "       [ 3.27192786],\n",
       "       [ 5.25092458],\n",
       "       [ 5.11680199],\n",
       "       [ 3.96482035],\n",
       "       [ 1.3939147 ],\n",
       "       [ 2.04201031],\n",
       "       [-0.53058902],\n",
       "       [ 0.76272152],\n",
       "       [ 1.18071602]])"
      ]
     },
     "execution_count": 23,
     "metadata": {},
     "output_type": "execute_result"
    }
   ],
   "source": [
    "tot_dist_diff_nT_wT_n2 = ((med_nT_tot - med_wT_tot) / med_wT_tot) * 100\n",
    "tot_dist_diff_nT_wT_n2"
   ]
  },
  {
   "cell_type": "markdown",
   "metadata": {
    "tags": []
   },
   "source": [
    "# GKDE:"
   ]
  },
  {
   "cell_type": "markdown",
   "metadata": {},
   "source": [
    "## Loading data:"
   ]
  },
  {
   "cell_type": "code",
   "execution_count": 24,
   "metadata": {},
   "outputs": [],
   "source": [
    "filedir = '/storage/shared/oceanparcels/output_data/data_LauraGN/outputs_parcels/Azores/eNATL60/'"
   ]
  },
  {
   "cell_type": "code",
   "execution_count": 25,
   "metadata": {},
   "outputs": [],
   "source": [
    "ds_nT_Jul_month = xr.open_dataset(filedir + 'ntides/monthly/Particle_AZO_grid100000p_ntides_0701_hourly_MONTH.nc')\n",
    "ds_wT_Jul_month = xr.open_dataset(filedir + 'wtides/monthly/Particle_AZO_grid100000p_wtides_0701_hourly_MONTH.nc')\n",
    "\n",
    "ds_nT_Aug_month = xr.open_dataset(filedir + 'ntides/monthly/Particle_AZO_grid100000p_ntides_0801_hourly_MONTH.nc')\n",
    "ds_wT_Aug_month = xr.open_dataset(filedir + 'wtides/monthly/Particle_AZO_grid100000p_wtides_0801_hourly_MONTH.nc')\n",
    "\n",
    "ds_nT_Sep_month = xr.open_dataset(filedir + 'ntides/monthly/Particle_AZO_grid100000p_ntides_0901_hourly_MONTH.nc')\n",
    "ds_wT_Sep_month = xr.open_dataset(filedir + 'wtides/monthly/Particle_AZO_grid100000p_wtides_0901_hourly_MONTH.nc')\n",
    "\n",
    "ds_nT_Oct_month = xr.open_dataset(filedir + 'ntides/monthly/Particle_AZO_grid100000p_ntides_1001_hourly_MONTH.nc')\n",
    "ds_wT_Oct_month = xr.open_dataset(filedir + 'wtides/monthly/Particle_AZO_grid100000p_wtides_1001_hourly_MONTH.nc')\n",
    "\n",
    "ds_nT_Nov_month = xr.open_dataset(filedir + 'ntides/monthly/Particle_AZO_grid100000p_ntides_1101_hourly_MONTH.nc')\n",
    "ds_wT_Nov_month = xr.open_dataset(filedir + 'wtides/monthly/Particle_AZO_grid100000p_wtides_1101_hourly_MONTH.nc')\n",
    "\n",
    "ds_nT_Dec_month = xr.open_dataset(filedir + 'ntides/monthly/Particle_AZO_grid100000p_ntides_1201_hourly_MONTH.nc')\n",
    "ds_wT_Dec_month = xr.open_dataset(filedir + 'wtides/monthly/Particle_AZO_grid100000p_wtides_1201_hourly_MONTH.nc')\n",
    "\n",
    "ds_nT_Jan_month = xr.open_dataset(filedir + 'ntides/monthly/Particle_AZO_grid100000p_ntides_0101_hourly_MONTH.nc')\n",
    "ds_wT_Jan_month = xr.open_dataset(filedir + 'wtides/monthly/Particle_AZO_grid100000p_wtides_0101_hourly_MONTH.nc')\n",
    "\n",
    "ds_nT_Feb_month = xr.open_dataset(filedir + 'ntides/monthly/Particle_AZO_grid100000p_ntides_0201_hourly_MONTH.nc')\n",
    "ds_wT_Feb_month = xr.open_dataset(filedir + 'wtides/monthly/Particle_AZO_grid100000p_wtides_0201_hourly_MONTH.nc')\n",
    "\n",
    "ds_nT_Mar_month = xr.open_dataset(filedir + 'ntides/monthly/Particle_AZO_grid100000p_ntides_0301_hourly_MONTH.nc')\n",
    "ds_wT_Mar_month = xr.open_dataset(filedir + 'wtides/monthly/Particle_AZO_grid100000p_wtides_0301_hourly_MONTH.nc')\n",
    "\n",
    "ds_nT_Apr_month = xr.open_dataset(filedir + 'ntides/monthly/Particle_AZO_grid100000p_ntides_0401_hourly_MONTH.nc')\n",
    "ds_wT_Apr_month = xr.open_dataset(filedir + 'wtides/monthly/Particle_AZO_grid100000p_wtides_0401_hourly_MONTH.nc')\n",
    "\n",
    "ds_nT_May_month = xr.open_dataset(filedir + 'ntides/monthly/Particle_AZO_grid100000p_ntides_0501_hourly_MONTH.nc')\n",
    "ds_wT_May_month = xr.open_dataset(filedir + 'wtides/monthly/Particle_AZO_grid100000p_wtides_0501_hourly_MONTH.nc')\n",
    "\n",
    "ds_nT_Jun_month = xr.open_dataset(filedir + 'ntides/monthly/Particle_AZO_grid100000p_ntides_0601_hourly_MONTH.nc')\n",
    "ds_wT_Jun_month = xr.open_dataset(filedir + 'wtides/monthly/Particle_AZO_grid100000p_wtides_0601_hourly_MONTH.nc')\n"
   ]
  },
  {
   "cell_type": "code",
   "execution_count": 26,
   "metadata": {},
   "outputs": [],
   "source": [
    "dsps_nT = [ds_nT_Jul_month,\n",
    "ds_nT_Aug_month,\n",
    "ds_nT_Sep_month,\n",
    "ds_nT_Oct_month,\n",
    "ds_nT_Nov_month,\n",
    "ds_nT_Dec_month,\n",
    "ds_nT_Jan_month,\n",
    "ds_nT_Feb_month,\n",
    "ds_nT_Mar_month,\n",
    "ds_nT_Apr_month,\n",
    "ds_nT_May_month,\n",
    "ds_nT_Jun_month]"
   ]
  },
  {
   "cell_type": "code",
   "execution_count": 27,
   "metadata": {},
   "outputs": [],
   "source": [
    "dsps_wT = [ds_wT_Jul_month,\n",
    "ds_wT_Aug_month,\n",
    "ds_wT_Sep_month,\n",
    "ds_wT_Oct_month,\n",
    "ds_wT_Nov_month,\n",
    "ds_wT_Dec_month,\n",
    "ds_wT_Jan_month,\n",
    "ds_wT_Feb_month,\n",
    "ds_wT_Mar_month,\n",
    "ds_wT_Apr_month,\n",
    "ds_wT_May_month,\n",
    "ds_wT_Jun_month]"
   ]
  },
  {
   "cell_type": "code",
   "execution_count": 28,
   "metadata": {},
   "outputs": [],
   "source": [
    "filedir_e = 'KDEs/'"
   ]
  },
  {
   "cell_type": "code",
   "execution_count": 29,
   "metadata": {},
   "outputs": [],
   "source": [
    "kde_nT_Jul = np.load(filedir_e + 'KDE_Particle_AZO_grid100000p_ntides_0701_hourly_MONTH.npz')\n",
    "kde_nT_Aug = np.load(filedir_e + 'KDE_Particle_AZO_grid100000p_ntides_0801_hourly_MONTH.npz')\n",
    "kde_nT_Sep = np.load(filedir_e + 'KDE_Particle_AZO_grid100000p_ntides_0901_hourly_MONTH.npz')\n",
    "kde_nT_Oct = np.load(filedir_e + 'KDE_Particle_AZO_grid100000p_ntides_1001_hourly_MONTH.npz')\n",
    "kde_nT_Nov = np.load(filedir_e + 'KDE_Particle_AZO_grid100000p_ntides_1101_hourly_MONTH.npz')\n",
    "kde_nT_Dec = np.load(filedir_e + 'KDE_Particle_AZO_grid100000p_ntides_1201_hourly_MONTH.npz')\n",
    "kde_nT_Jan = np.load(filedir_e + 'KDE_Particle_AZO_grid100000p_ntides_0101_hourly_MONTH.npz')\n",
    "kde_nT_Feb = np.load(filedir_e + 'KDE_Particle_AZO_grid100000p_ntides_0201_hourly_MONTH.npz')\n",
    "kde_nT_Mar = np.load(filedir_e + 'KDE_Particle_AZO_grid100000p_ntides_0301_hourly_MONTH.npz')\n",
    "kde_nT_Apr = np.load(filedir_e + 'KDE_Particle_AZO_grid100000p_ntides_0401_hourly_MONTH.npz')\n",
    "kde_nT_May = np.load(filedir_e + 'KDE_Particle_AZO_grid100000p_ntides_0501_hourly_MONTH.npz')\n",
    "kde_nT_Jun = np.load(filedir_e + 'KDE_Particle_AZO_grid100000p_ntides_0601_hourly_MONTH.npz')\n"
   ]
  },
  {
   "cell_type": "code",
   "execution_count": 30,
   "metadata": {},
   "outputs": [],
   "source": [
    "kde_nT = [kde_nT_Jul, \n",
    "    kde_nT_Aug, \n",
    "    kde_nT_Sep,\n",
    "    kde_nT_Oct,\n",
    "    kde_nT_Nov,\n",
    "    kde_nT_Dec,\n",
    "    kde_nT_Jan,\n",
    "    kde_nT_Feb,\n",
    "    kde_nT_Mar,\n",
    "    kde_nT_Apr,\n",
    "    kde_nT_May,\n",
    "    kde_nT_Jun ]\n"
   ]
  },
  {
   "cell_type": "code",
   "execution_count": 31,
   "metadata": {},
   "outputs": [],
   "source": [
    "kde_wT_Jul = np.load(filedir_e + 'KDE_Particle_AZO_grid100000p_wtides_0701_hourly_MONTH.npz')\n",
    "kde_wT_Aug = np.load(filedir_e + 'KDE_Particle_AZO_grid100000p_wtides_0801_hourly_MONTH.npz')\n",
    "kde_wT_Sep = np.load(filedir_e + 'KDE_Particle_AZO_grid100000p_wtides_0901_hourly_MONTH.npz')\n",
    "kde_wT_Oct = np.load(filedir_e + 'KDE_Particle_AZO_grid100000p_wtides_1001_hourly_MONTH.npz')\n",
    "kde_wT_Nov = np.load(filedir_e + 'KDE_Particle_AZO_grid100000p_wtides_1101_hourly_MONTH.npz')\n",
    "kde_wT_Dec = np.load(filedir_e + 'KDE_Particle_AZO_grid100000p_wtides_1201_hourly_MONTH.npz')\n",
    "kde_wT_Jan = np.load(filedir_e + 'KDE_Particle_AZO_grid100000p_wtides_0101_hourly_MONTH.npz')\n",
    "kde_wT_Feb = np.load(filedir_e + 'KDE_Particle_AZO_grid100000p_wtides_0201_hourly_MONTH.npz')\n",
    "kde_wT_Mar = np.load(filedir_e + 'KDE_Particle_AZO_grid100000p_wtides_0301_hourly_MONTH.npz')\n",
    "kde_wT_Apr = np.load(filedir_e + 'KDE_Particle_AZO_grid100000p_wtides_0401_hourly_MONTH.npz')\n",
    "kde_wT_May = np.load(filedir_e + 'KDE_Particle_AZO_grid100000p_wtides_0501_hourly_MONTH.npz')\n",
    "kde_wT_Jun = np.load(filedir_e + 'KDE_Particle_AZO_grid100000p_wtides_0601_hourly_MONTH.npz')\n"
   ]
  },
  {
   "cell_type": "code",
   "execution_count": 32,
   "metadata": {},
   "outputs": [],
   "source": [
    "kde_wT = [kde_wT_Jul, \n",
    "    kde_wT_Aug, \n",
    "    kde_wT_Sep,\n",
    "    kde_wT_Oct,\n",
    "    kde_wT_Nov,\n",
    "    kde_wT_Dec,\n",
    "    kde_wT_Jan,\n",
    "    kde_wT_Feb,\n",
    "    kde_wT_Mar,\n",
    "    kde_wT_Apr,\n",
    "    kde_wT_May,\n",
    "    kde_wT_Jun ]\n"
   ]
  },
  {
   "cell_type": "code",
   "execution_count": 33,
   "metadata": {},
   "outputs": [],
   "source": [
    "ntitles = ['Jul', 'Aug', 'Sep', 'Oct', 'Nov', 'Dec', 'Jan', 'Feb', 'Mar', 'Apr', 'May', 'Jun'] # order by OGCM months\n"
   ]
  },
  {
   "cell_type": "markdown",
   "metadata": {},
   "source": [
    "## GKDE plot:"
   ]
  },
  {
   "cell_type": "code",
   "execution_count": 34,
   "metadata": {},
   "outputs": [],
   "source": [
    "width = 0.35  # the width of the bars\n",
    "\n",
    "labels = ['Jul. 2009', 'Aug. 2009', 'Sep. 2009', 'Oct. 2009', 'Nov. 2009', 'Dec. 2009', 'Jan. 2010', 'Feb. 2010', 'Mar. 2010', 'Apr. 2010', 'May. 2010', 'Jun. 2010'] # order by OGCM months\n",
    "x = np.arange(len(labels))  # the label locations"
   ]
  },
  {
   "cell_type": "code",
   "execution_count": 35,
   "metadata": {},
   "outputs": [
    {
     "data": {
      "image/png": "[encoded data removed]",
      "text/plain": [
       "<Figure size 1008x576 with 1 Axes>"
      ]
     },
     "metadata": {
      "needs_background": "light"
     },
     "output_type": "display_data"
    }
   ],
   "source": [
    "perc_0080_nT = []\n",
    "perc_0080_wT = []\n",
    "    \n",
    "plt.figure(figsize=(14, 8)) #(17,5) \n",
    "\n",
    "ax = plt.subplot(111)\n",
    "for ii in range(0, len(ntitles)):\n",
    "    \n",
    "    ########\n",
    "    \n",
    "    x_nT = kde_nT[ii]['kde_x']\n",
    "    y_nT = kde_nT[ii]['kde_y']\n",
    "    z_nT = kde_nT[ii]['kde_z']\n",
    "    \n",
    "    x_wT = kde_wT[ii]['kde_x']\n",
    "    y_wT = kde_wT[ii]['kde_y']\n",
    "    z_wT = kde_wT[ii]['kde_z']\n",
    "    \n",
    "    lon_del_nT = dsps_nT[ii]['lon'][:,-1].where((dsps_nT[ii]['lon'][:,-1]>-35.) & \n",
    "                                                  (dsps_nT[ii]['lon'][:,-1]<-18.) &\n",
    "                                                  (dsps_nT[ii]['lat'][:,-1]>30.) &\n",
    "                                                  (dsps_nT[ii]['lat'][:,-1]<40.), np.nan)\n",
    "    \n",
    "    lon_del_wT = dsps_wT[ii]['lon'][:,-1].where((dsps_wT[ii]['lon'][:,-1]>-35.) & \n",
    "                                                  (dsps_wT[ii]['lon'][:,-1]<-18.) &\n",
    "                                                  (dsps_wT[ii]['lat'][:,-1]>30.) &\n",
    "                                                  (dsps_wT[ii]['lat'][:,-1]<40.), np.nan)\n",
    "    nondelp_nT = sum(~np.isnan(lon_del_nT.data))\n",
    "    nondelp_wT = sum(~np.isnan(lon_del_wT.data))\n",
    "    \n",
    "    var_nT = ((np.count_nonzero(z_nT >= 0.008)) / nondelp_nT) * 100\n",
    "    var_wT = ((np.count_nonzero(z_wT >= 0.008)) / nondelp_wT) * 100\n",
    "    \n",
    "    perc_0080_nT.append(var_nT)\n",
    "    perc_0080_wT.append(var_wT)\n",
    "    ########\n",
    "    \n",
    "    if ii == 0:\n",
    "        ax.bar(x[ii] - width/2, var_nT, width, label='No tidal forcing', color='C0')\n",
    "    else:\n",
    "        ax.bar(x[ii] - width/2, var_nT, width, color='C0')\n",
    "    #rects1 = ax.bar(x - width/2, skw_2D_intime_eulerian[:,ind_2d_borders_T_min_eulerian], width, label='SMOC eulerian', color='C2')\n",
    "\n",
    "    if ii == 0:\n",
    "        ax.bar(x[ii] + width/2, var_wT, width, label='Tidal forcing', color='C3')\n",
    "    else:\n",
    "        ax.bar(x[ii] + width/2, var_wT, width, color='C3')\n",
    "    #rects1 = ax.bar(x - width/2, skw_2D_intime_eulerian[:,ind_2d_borders_T_min_eulerian], width, label='SMOC eulerian', color='C2')\n",
    "        \n",
    "ax.set_xticks(x)\n",
    "ax.set_xticklabels(labels, rotation=45, horizontalalignment='right')\n",
    "ax.legend(fontsize=14)\n",
    "#ax.set_ylim([0, .014])\n",
    "ax.grid(axis='y')\n",
    "ax.set_ylabel('Percentage of particles \\n with GKDE >= 0.008', size=16)\n",
    "ax.tick_params(axis='both', which='major', labelsize=12)\n",
    "\n",
    "plt.show()\n"
   ]
  },
  {
   "cell_type": "markdown",
   "metadata": {},
   "source": [
    "## Perc. diff:"
   ]
  },
  {
   "cell_type": "code",
   "execution_count": 36,
   "metadata": {},
   "outputs": [],
   "source": [
    "perc_0080_nT = np.array(perc_0080_nT )\n",
    "perc_0080_wT = np.array(perc_0080_wT)"
   ]
  },
  {
   "cell_type": "code",
   "execution_count": 37,
   "metadata": {},
   "outputs": [],
   "source": [
    "# GKDE_diff_nT_wT   = perc_0080_wT - perc_0080_nT\n",
    "GKDE_diff_nT_wT_n = ((perc_0080_wT - perc_0080_nT) / perc_0080_nT) * 100\n",
    "    \n",
    "# GKDE_diff_nT_wT_dwn   = perc_0080_wT / perc_0080_nT\n",
    "# GKDE_diff_nT_wT_dnw   = perc_0080_nT / perc_0080_wT"
   ]
  },
  {
   "cell_type": "markdown",
   "metadata": {},
   "source": [
    "## Perc. diff:"
   ]
  },
  {
   "cell_type": "code",
   "execution_count": null,
   "metadata": {},
   "outputs": [],
   "source": [
    "perc_0080_nT = np.array(perc_0080_nT )\n",
    "perc_0080_wT = np.array(perc_0080_wT)"
   ]
  },
  {
   "cell_type": "code",
   "execution_count": null,
   "metadata": {},
   "outputs": [],
   "source": [
    "GKDE_diff_nT_wT_n = ((perc_0080_wT - perc_0080_nT) / perc_0080_nT) * 100\n"
   ]
  },
  {
   "cell_type": "markdown",
   "metadata": {
    "tags": []
   },
   "source": [
    "# FTLE plots:"
   ]
  },
  {
   "cell_type": "markdown",
   "metadata": {},
   "source": [
    "## Loading data:"
   ]
  },
  {
   "cell_type": "code",
   "execution_count": 40,
   "metadata": {},
   "outputs": [],
   "source": [
    "dFTLE_nT_Jan_w01 = np.load(filedir_root + 'FTLE_b_nT_Jan_biw_w01_v02.npz')\n",
    "dFTLE_nT_Feb_w01 = np.load(filedir_root + 'FTLE_b_nT_Feb_biw_w01_v02.npz')\n",
    "dFTLE_nT_Mar_w01 = np.load(filedir_root + 'FTLE_b_nT_Mar_biw_w01_v02.npz')\n",
    "dFTLE_nT_Jul_w01 = np.load(filedir_root + 'FTLE_b_nT_Jul_biw_w01_v02.npz')\n",
    "dFTLE_nT_Aug_w01 = np.load(filedir_root + 'FTLE_b_nT_Aug_biw_w01_v02_CHECK01.npz')\n",
    "dFTLE_nT_Sep_w01 = np.load(filedir_root + 'FTLE_b_nT_Sep_biw_w01_v02.npz')"
   ]
  },
  {
   "cell_type": "code",
   "execution_count": 41,
   "metadata": {},
   "outputs": [],
   "source": [
    "dFTLE_wT_Jan_w01 = np.load(filedir_root + 'FTLE_b_wT_Jan_biw_w01_v02.npz')\n",
    "dFTLE_wT_Feb_w01 = np.load(filedir_root + 'FTLE_b_wT_Feb_biw_w01_v02.npz')\n",
    "dFTLE_wT_Mar_w01 = np.load(filedir_root + 'FTLE_b_wT_Mar_biw_w01_v02.npz')\n",
    "dFTLE_wT_Jul_w01 = np.load(filedir_root + 'FTLE_b_wT_Jul_biw_w01_v02.npz')\n",
    "dFTLE_wT_Aug_w01 = np.load(filedir_root + 'FTLE_b_wT_Aug_biw_w01_v02.npz')\n",
    "dFTLE_wT_Sep_w01 = np.load(filedir_root + 'FTLE_b_wT_Sep_biw_w01_v02.npz')"
   ]
  },
  {
   "cell_type": "code",
   "execution_count": 42,
   "metadata": {},
   "outputs": [],
   "source": [
    "dFTLE_nT_Oct_w01 = np.load(filedir_root + 'FTLE_b_nT_Oct_biw_w01_v02.npz')\n",
    "dFTLE_nT_Nov_w01 = np.load(filedir_root + 'FTLE_b_nT_Nov_biw_w01_v02.npz')\n",
    "dFTLE_nT_Dec_w01 = np.load(filedir_root + 'FTLE_b_nT_Dec_biw_w01_v02.npz')\n",
    "dFTLE_nT_Apr_w01 = np.load(filedir_root + 'FTLE_b_nT_Apr_biw_w01_v02.npz')\n",
    "dFTLE_nT_May_w01 = np.load(filedir_root + 'FTLE_b_nT_May_biw_w01_v02.npz')\n",
    "dFTLE_nT_Jun_w01 = np.load(filedir_root + 'FTLE_b_nT_Jun_biw_w01_v02.npz')"
   ]
  },
  {
   "cell_type": "code",
   "execution_count": 43,
   "metadata": {},
   "outputs": [],
   "source": [
    "dFTLE_wT_Oct_w01 = np.load(filedir_root + 'FTLE_b_wT_Oct_biw_w01_v02.npz')\n",
    "dFTLE_wT_Nov_w01 = np.load(filedir_root + 'FTLE_b_wT_Nov_biw_w01_v02.npz')\n",
    "dFTLE_wT_Dec_w01 = np.load(filedir_root + 'FTLE_b_wT_Dec_biw_w01_v02.npz')\n",
    "dFTLE_wT_Apr_w01 = np.load(filedir_root + 'FTLE_b_wT_Apr_biw_w01_v02.npz')\n",
    "dFTLE_wT_May_w01 = np.load(filedir_root + 'FTLE_b_wT_May_biw_w01_v02.npz')\n",
    "dFTLE_wT_Jun_w01 = np.load(filedir_root + 'FTLE_b_wT_Jun_biw_w01_v02.npz')"
   ]
  },
  {
   "cell_type": "code",
   "execution_count": 44,
   "metadata": {},
   "outputs": [],
   "source": [
    "dFTLE_nT_Jan_w02 = np.load(filedir_root + 'FTLE_b_nT_Jan_biw_w02_v02.npz')\n",
    "dFTLE_nT_Feb_w02 = np.load(filedir_root + 'FTLE_b_nT_Feb_biw_w02_v02.npz')\n",
    "dFTLE_nT_Mar_w02 = np.load(filedir_root + 'FTLE_b_nT_Mar_biw_w02_v02.npz')\n",
    "dFTLE_nT_Jul_w02 = np.load(filedir_root + 'FTLE_b_nT_Jul_biw_w02_v02.npz')\n",
    "dFTLE_nT_Aug_w02 = np.load(filedir_root + 'FTLE_b_nT_Aug_biw_w02_v02.npz')\n",
    "dFTLE_nT_Sep_w02 = np.load(filedir_root + 'FTLE_b_nT_Sep_biw_w02_v02.npz')"
   ]
  },
  {
   "cell_type": "code",
   "execution_count": 45,
   "metadata": {},
   "outputs": [],
   "source": [
    "dFTLE_wT_Jan_w02 = np.load(filedir_root + 'FTLE_b_wT_Jan_biw_w02_v02.npz')\n",
    "dFTLE_wT_Feb_w02 = np.load(filedir_root + 'FTLE_b_wT_Feb_biw_w02_v02.npz')\n",
    "dFTLE_wT_Mar_w02 = np.load(filedir_root + 'FTLE_b_wT_Mar_biw_w02_v02.npz')\n",
    "dFTLE_wT_Jul_w02 = np.load(filedir_root + 'FTLE_b_wT_Jul_biw_w02_v02.npz')\n",
    "dFTLE_wT_Aug_w02 = np.load(filedir_root + 'FTLE_b_wT_Aug_biw_w02_v02.npz')\n",
    "dFTLE_wT_Sep_w02 = np.load(filedir_root + 'FTLE_b_wT_Sep_biw_w02_v02.npz')"
   ]
  },
  {
   "cell_type": "code",
   "execution_count": 46,
   "metadata": {},
   "outputs": [],
   "source": [
    "dFTLE_nT_Oct_w02 = np.load(filedir_root + 'FTLE_b_nT_Oct_biw_w02_v02.npz')\n",
    "dFTLE_nT_Nov_w02 = np.load(filedir_root + 'FTLE_b_nT_Nov_biw_w02_v02.npz')\n",
    "dFTLE_nT_Dec_w02 = np.load(filedir_root + 'FTLE_b_nT_Dec_biw_w02_v02.npz')\n",
    "dFTLE_nT_Apr_w02 = np.load(filedir_root + 'FTLE_b_nT_Apr_biw_w02_v02.npz')\n",
    "dFTLE_nT_May_w02 = np.load(filedir_root + 'FTLE_b_nT_May_biw_w02_v02.npz')\n",
    "dFTLE_nT_Jun_w02 = np.load(filedir_root + 'FTLE_b_nT_Jun_biw_w02_v02.npz')"
   ]
  },
  {
   "cell_type": "code",
   "execution_count": 47,
   "metadata": {},
   "outputs": [],
   "source": [
    "dFTLE_wT_Oct_w02 = np.load(filedir_root + 'FTLE_b_wT_Oct_biw_w02_v02.npz')\n",
    "dFTLE_wT_Nov_w02 = np.load(filedir_root + 'FTLE_b_wT_Nov_biw_w02_v02.npz')\n",
    "dFTLE_wT_Dec_w02 = np.load(filedir_root + 'FTLE_b_wT_Dec_biw_w02_v02.npz')\n",
    "dFTLE_wT_Apr_w02 = np.load(filedir_root + 'FTLE_b_wT_Apr_biw_w02_v02.npz')\n",
    "dFTLE_wT_May_w02 = np.load(filedir_root + 'FTLE_b_wT_May_biw_w02_v02.npz')\n",
    "dFTLE_wT_Jun_w02 = np.load(filedir_root + 'FTLE_b_wT_Jun_biw_w02_v02.npz')"
   ]
  },
  {
   "cell_type": "code",
   "execution_count": 48,
   "metadata": {},
   "outputs": [],
   "source": [
    "nmonths = ['Jul', 'Aug', 'Sep', 'Oct', 'Nov', 'Dec', 'Jan', 'Feb', 'Mar', 'Apr', 'May', 'Jun']"
   ]
  },
  {
   "cell_type": "code",
   "execution_count": 49,
   "metadata": {},
   "outputs": [],
   "source": [
    "dFTLE_nTs_w01 = [dFTLE_nT_Jul_w01, dFTLE_nT_Aug_w01, dFTLE_nT_Sep_w01, dFTLE_nT_Oct_w01, dFTLE_nT_Nov_w01, dFTLE_nT_Dec_w01, dFTLE_nT_Jan_w01, dFTLE_nT_Feb_w01, dFTLE_nT_Mar_w01, dFTLE_nT_Apr_w01, dFTLE_nT_May_w01, dFTLE_nT_Jun_w01]"
   ]
  },
  {
   "cell_type": "code",
   "execution_count": 50,
   "metadata": {},
   "outputs": [],
   "source": [
    "dFTLE_wTs_w01 = [dFTLE_wT_Jul_w01, dFTLE_wT_Aug_w01, dFTLE_wT_Sep_w01, dFTLE_wT_Oct_w01, dFTLE_wT_Nov_w01, dFTLE_wT_Dec_w01, dFTLE_wT_Jan_w01, dFTLE_wT_Feb_w01, dFTLE_wT_Mar_w01, dFTLE_wT_Apr_w01, dFTLE_wT_May_w01, dFTLE_wT_Jun_w01]"
   ]
  },
  {
   "cell_type": "code",
   "execution_count": 51,
   "metadata": {},
   "outputs": [],
   "source": [
    "dFTLE_nTs_w02 = [dFTLE_nT_Jul_w02, dFTLE_nT_Aug_w02, dFTLE_nT_Sep_w02, dFTLE_nT_Oct_w02, dFTLE_nT_Nov_w02, dFTLE_nT_Dec_w02, dFTLE_nT_Jan_w02, dFTLE_nT_Feb_w02, dFTLE_nT_Mar_w02, dFTLE_nT_Apr_w02, dFTLE_nT_May_w02, dFTLE_nT_Jun_w02]"
   ]
  },
  {
   "cell_type": "code",
   "execution_count": 52,
   "metadata": {},
   "outputs": [],
   "source": [
    "dFTLE_wTs_w02 = [dFTLE_wT_Jul_w02, dFTLE_wT_Aug_w02, dFTLE_wT_Sep_w02, dFTLE_wT_Oct_w02, dFTLE_wT_Nov_w02, dFTLE_wT_Dec_w02, dFTLE_wT_Jan_w02, dFTLE_wT_Feb_w02, dFTLE_wT_Mar_w02, dFTLE_wT_Apr_w02, dFTLE_wT_May_w02, dFTLE_wT_Jun_w02]"
   ]
  },
  {
   "cell_type": "code",
   "execution_count": 53,
   "metadata": {},
   "outputs": [],
   "source": [
    "dFTLE_nTs = [dFTLE_nT_Jul_w01, dFTLE_nT_Jul_w02, dFTLE_nT_Aug_w01, dFTLE_nT_Aug_w02, dFTLE_nT_Sep_w01, dFTLE_nT_Sep_w02, dFTLE_nT_Oct_w01, dFTLE_nT_Oct_w02, dFTLE_nT_Nov_w01, dFTLE_nT_Nov_w02, dFTLE_nT_Dec_w01, dFTLE_nT_Dec_w02, dFTLE_nT_Jan_w01, dFTLE_nT_Jan_w02, dFTLE_nT_Feb_w01, dFTLE_nT_Feb_w02, dFTLE_nT_Mar_w01, dFTLE_nT_Mar_w02, dFTLE_nT_Apr_w01, dFTLE_nT_Apr_w02, dFTLE_nT_May_w01, dFTLE_nT_May_w02, dFTLE_nT_Jun_w01, dFTLE_nT_Jun_w02]"
   ]
  },
  {
   "cell_type": "code",
   "execution_count": 54,
   "metadata": {},
   "outputs": [],
   "source": [
    "dFTLE_wTs = [dFTLE_wT_Jul_w01, dFTLE_wT_Jul_w02, dFTLE_wT_Aug_w01, dFTLE_wT_Aug_w02, dFTLE_wT_Sep_w01, dFTLE_wT_Sep_w02, dFTLE_wT_Oct_w01, dFTLE_wT_Oct_w02, dFTLE_wT_Nov_w01, dFTLE_wT_Nov_w02, dFTLE_wT_Dec_w01, dFTLE_wT_Dec_w02, dFTLE_wT_Jan_w01, dFTLE_wT_Jan_w02, dFTLE_wT_Feb_w01, dFTLE_wT_Feb_w02, dFTLE_wT_Mar_w01, dFTLE_wT_Mar_w02, dFTLE_wT_Apr_w01, dFTLE_wT_Apr_w02, dFTLE_wT_May_w01, dFTLE_wT_May_w02, dFTLE_wT_Jun_w01, dFTLE_wT_Jun_w02]"
   ]
  },
  {
   "cell_type": "markdown",
   "metadata": {},
   "source": [
    "## Plotting values above 0.5:"
   ]
  },
  {
   "cell_type": "code",
   "execution_count": 55,
   "metadata": {},
   "outputs": [],
   "source": [
    "step = .004 # degrees\n",
    "grid_lons, grid_lats = np.meshgrid(np.arange(-27, -21+step, step), np.arange(32.5, 36.5+step, step))"
   ]
  },
  {
   "cell_type": "code",
   "execution_count": 56,
   "metadata": {},
   "outputs": [],
   "source": [
    "nb_points = np.size(grid_lats)"
   ]
  },
  {
   "cell_type": "markdown",
   "metadata": {},
   "source": [
    "## For day 01 and 15 above 0.5:"
   ]
  },
  {
   "cell_type": "code",
   "execution_count": 57,
   "metadata": {},
   "outputs": [],
   "source": [
    "width = 0.35  # the width of the bars\n",
    "labels_all = ['01/07/2009', '15/07/2009', '01/08/2009', '15/08/2009', '01/09/2009', '15/09/2009', '01/10/2009', '15/10/2009', '01/11/2009', '15/11/2009', '01/12/2009', '15/12/2009', '01/01/2010', '15/01/2010', '01/02/2010', '15/02/2010','01/03/2010', '15/03/2010', '01/04/2010', '15/04/2010',  '01/05/2010', '15/05/2010', '01/06/2010', '15/06/2010']\n",
    "x_all = np.arange(len(labels_all))  # the label locations\n"
   ]
  },
  {
   "cell_type": "markdown",
   "metadata": {},
   "source": [
    "## Time evolution of percentage difference:"
   ]
  },
  {
   "cell_type": "code",
   "execution_count": 58,
   "metadata": {},
   "outputs": [
    {
     "data": {
      "text/plain": [
       "Text(0, 0.5, 'Percentage bFTLE backward >= 0.5')"
      ]
     },
     "execution_count": 58,
     "metadata": {},
     "output_type": "execute_result"
    },
    {
     "data": {
      "image/png": "[encoded data removed]",
      "text/plain": [
       "<Figure size 1008x576 with 1 Axes>"
      ]
     },
     "metadata": {
      "needs_background": "light"
     },
     "output_type": "display_data"
    }
   ],
   "source": [
    "# nt- wt\n",
    "diff_nT_wT   = []\n",
    "diff_nT_wT_n = []\n",
    "\n",
    "# FTLE backward        \n",
    "    \n",
    "for ii in range(0, len(labels_all)):\n",
    "    \n",
    "    FTLE_b_nT = dFTLE_nTs[ii]['FTLE_b']\n",
    "    FTLE_b_wT = dFTLE_wTs[ii]['FTLE_b']\n",
    "    \n",
    "    var_nT = ((np.count_nonzero(FTLE_b_nT >= 0.5)) / nb_points) * 100\n",
    "    var_wT = ((np.count_nonzero(FTLE_b_wT >= 0.5)) / nb_points) * 100\n",
    "    \n",
    "    diff_nT_wT.append(var_wT-var_nT)\n",
    "    diff_nT_wT_n.append(((var_wT-var_nT)/var_nT)*100)\n",
    "    "
   ]
  },
  {
   "cell_type": "markdown",
   "metadata": {},
   "source": [
    "# All together:"
   ]
  },
  {
   "cell_type": "code",
   "execution_count": 62,
   "metadata": {},
   "outputs": [
    {
     "data": {
      "text/plain": [
       "['01/07/2009',\n",
       " '01/08/2009',\n",
       " '01/09/2009',\n",
       " '01/10/2009',\n",
       " '01/11/2009',\n",
       " '01/12/2009',\n",
       " '01/01/2010',\n",
       " '01/02/2010',\n",
       " '01/03/2010',\n",
       " '01/04/2010',\n",
       " '01/05/2010',\n",
       " '01/06/2010']"
      ]
     },
     "execution_count": 62,
     "metadata": {},
     "output_type": "execute_result"
    }
   ],
   "source": [
    "labels = labels_all[::2]\n",
    "labels"
   ]
  },
  {
   "cell_type": "code",
   "execution_count": 63,
   "metadata": {},
   "outputs": [
    {
     "data": {
      "text/plain": [
       "['01/07/2009',\n",
       " '15/07/2009',\n",
       " '01/08/2009',\n",
       " '15/08/2009',\n",
       " '01/09/2009',\n",
       " '15/09/2009',\n",
       " '01/10/2009',\n",
       " '15/10/2009',\n",
       " '01/11/2009',\n",
       " '15/11/2009',\n",
       " '01/12/2009',\n",
       " '15/12/2009',\n",
       " '01/01/2010',\n",
       " '15/01/2010',\n",
       " '01/02/2010',\n",
       " '15/02/2010',\n",
       " '01/03/2010',\n",
       " '15/03/2010',\n",
       " '01/04/2010',\n",
       " '15/04/2010',\n",
       " '01/05/2010',\n",
       " '15/05/2010',\n",
       " '01/06/2010',\n",
       " '15/06/2010']"
      ]
     },
     "execution_count": 63,
     "metadata": {},
     "output_type": "execute_result"
    }
   ],
   "source": [
    "labels_all"
   ]
  },
  {
   "cell_type": "markdown",
   "metadata": {},
   "source": [
    "# Same y-axis:"
   ]
  },
  {
   "cell_type": "markdown",
   "metadata": {},
   "source": [
    "# Skipping last point of bFTLE: (so grid in the vertical well aligned between subplots)"
   ]
  },
  {
   "cell_type": "markdown",
   "metadata": {
    "tags": []
   },
   "source": [
    "# Fixing time axis: (first 3 plots not 01 but 28 of month before!)"
   ]
  },
  {
   "cell_type": "markdown",
   "metadata": {
    "tags": []
   },
   "source": [
    "## Test:"
   ]
  },
  {
   "cell_type": "code",
   "execution_count": 67,
   "metadata": {},
   "outputs": [],
   "source": [
    "t = np.arange(datetime(2009,7,1), datetime(2010,7,1), timedelta(days=1)).astype(datetime)"
   ]
  },
  {
   "cell_type": "code",
   "execution_count": 70,
   "metadata": {},
   "outputs": [],
   "source": [
    "time_01 = np.arange(datetime(2009,7,28), datetime(2010,6,29), timedelta(days=30)).astype(datetime)"
   ]
  },
  {
   "cell_type": "code",
   "execution_count": 71,
   "metadata": {},
   "outputs": [
    {
     "data": {
      "text/plain": [
       "array([datetime.datetime(2009, 7, 28, 0, 0),\n",
       "       datetime.datetime(2009, 8, 27, 0, 0),\n",
       "       datetime.datetime(2009, 9, 26, 0, 0),\n",
       "       datetime.datetime(2009, 10, 26, 0, 0),\n",
       "       datetime.datetime(2009, 11, 25, 0, 0),\n",
       "       datetime.datetime(2009, 12, 25, 0, 0),\n",
       "       datetime.datetime(2010, 1, 24, 0, 0),\n",
       "       datetime.datetime(2010, 2, 23, 0, 0),\n",
       "       datetime.datetime(2010, 3, 25, 0, 0),\n",
       "       datetime.datetime(2010, 4, 24, 0, 0),\n",
       "       datetime.datetime(2010, 5, 24, 0, 0),\n",
       "       datetime.datetime(2010, 6, 23, 0, 0)], dtype=object)"
      ]
     },
     "execution_count": 71,
     "metadata": {},
     "output_type": "execute_result"
    }
   ],
   "source": [
    "time_01"
   ]
  },
  {
   "cell_type": "code",
   "execution_count": 72,
   "metadata": {},
   "outputs": [],
   "source": [
    "time_01[1] = datetime(2009,8,28)\n",
    "time_01[2] = datetime(2009,9,28)\n",
    "time_01[3] = datetime(2009,10,28)\n",
    "time_01[4] = datetime(2009,11,28)\n",
    "time_01[5] = datetime(2009,12,28)\n",
    "time_01[6] = datetime(2010,1,28)\n",
    "time_01[7] = datetime(2010,2,28)\n",
    "time_01[8] = datetime(2010,3,28)\n",
    "time_01[9] = datetime(2010,4,28)\n",
    "time_01[10] = datetime(2010,5,28)\n",
    "time_01[11] = datetime(2010,6,28)"
   ]
  },
  {
   "cell_type": "code",
   "execution_count": 73,
   "metadata": {},
   "outputs": [
    {
     "data": {
      "text/plain": [
       "array([datetime.datetime(2009, 7, 28, 0, 0),\n",
       "       datetime.datetime(2009, 8, 28, 0, 0),\n",
       "       datetime.datetime(2009, 9, 28, 0, 0),\n",
       "       datetime.datetime(2009, 10, 28, 0, 0),\n",
       "       datetime.datetime(2009, 11, 28, 0, 0),\n",
       "       datetime.datetime(2009, 12, 28, 0, 0),\n",
       "       datetime.datetime(2010, 1, 28, 0, 0),\n",
       "       datetime.datetime(2010, 2, 28, 0, 0),\n",
       "       datetime.datetime(2010, 3, 28, 0, 0),\n",
       "       datetime.datetime(2010, 4, 28, 0, 0),\n",
       "       datetime.datetime(2010, 5, 28, 0, 0),\n",
       "       datetime.datetime(2010, 6, 28, 0, 0)], dtype=object)"
      ]
     },
     "execution_count": 73,
     "metadata": {},
     "output_type": "execute_result"
    }
   ],
   "source": [
    "time_01"
   ]
  },
  {
   "cell_type": "markdown",
   "metadata": {},
   "source": [
    "https://stackoverflow.com/questions/22696662/python-list-of-first-day-of-month-for-given-period :"
   ]
  },
  {
   "cell_type": "code",
   "execution_count": 74,
   "metadata": {},
   "outputs": [],
   "source": [
    "import datetime\n",
    "startyear = 2009\n",
    "startmonth = 7\n",
    "endyear = 2010\n",
    "endmonth = 6"
   ]
  },
  {
   "cell_type": "code",
   "execution_count": 75,
   "metadata": {},
   "outputs": [],
   "source": [
    "time_02 = [datetime.date(m//12, m%12+1, 1) for m in range(startyear*12+startmonth-1, endyear*12+endmonth)]\n"
   ]
  },
  {
   "cell_type": "code",
   "execution_count": 76,
   "metadata": {},
   "outputs": [
    {
     "data": {
      "text/plain": [
       "[datetime.date(2009, 7, 1),\n",
       " datetime.date(2009, 8, 1),\n",
       " datetime.date(2009, 9, 1),\n",
       " datetime.date(2009, 10, 1),\n",
       " datetime.date(2009, 11, 1),\n",
       " datetime.date(2009, 12, 1),\n",
       " datetime.date(2010, 1, 1),\n",
       " datetime.date(2010, 2, 1),\n",
       " datetime.date(2010, 3, 1),\n",
       " datetime.date(2010, 4, 1),\n",
       " datetime.date(2010, 5, 1),\n",
       " datetime.date(2010, 6, 1)]"
      ]
     },
     "execution_count": 76,
     "metadata": {},
     "output_type": "execute_result"
    }
   ],
   "source": [
    "time_02"
   ]
  },
  {
   "cell_type": "code",
   "execution_count": 85,
   "metadata": {},
   "outputs": [],
   "source": [
    "import datetime\n",
    "startyear = 2009\n",
    "startmonth = 7\n",
    "endyear = 2010\n",
    "endmonth = 6"
   ]
  },
  {
   "cell_type": "code",
   "execution_count": 86,
   "metadata": {},
   "outputs": [],
   "source": [
    "time_02b = [datetime.date(m//12, m%12+1, 15) for m in range(startyear*12+startmonth-1, endyear*12+endmonth)]\n"
   ]
  },
  {
   "cell_type": "code",
   "execution_count": 87,
   "metadata": {},
   "outputs": [
    {
     "data": {
      "text/plain": [
       "[datetime.date(2009, 7, 15),\n",
       " datetime.date(2009, 8, 15),\n",
       " datetime.date(2009, 9, 15),\n",
       " datetime.date(2009, 10, 15),\n",
       " datetime.date(2009, 11, 15),\n",
       " datetime.date(2009, 12, 15),\n",
       " datetime.date(2010, 1, 15),\n",
       " datetime.date(2010, 2, 15),\n",
       " datetime.date(2010, 3, 15),\n",
       " datetime.date(2010, 4, 15),\n",
       " datetime.date(2010, 5, 15),\n",
       " datetime.date(2010, 6, 15)]"
      ]
     },
     "execution_count": 87,
     "metadata": {},
     "output_type": "execute_result"
    }
   ],
   "source": [
    "time_02b"
   ]
  },
  {
   "cell_type": "code",
   "execution_count": 88,
   "metadata": {},
   "outputs": [],
   "source": [
    "time02c = time_02 + time_02b"
   ]
  },
  {
   "cell_type": "code",
   "execution_count": 89,
   "metadata": {},
   "outputs": [],
   "source": [
    "time02c.sort()"
   ]
  },
  {
   "cell_type": "code",
   "execution_count": 91,
   "metadata": {},
   "outputs": [],
   "source": [
    "import matplotlib.dates as mdates\n",
    "myFmt = mdates.DateFormatter('%d/%m/%Y')"
   ]
  },
  {
   "cell_type": "code",
   "execution_count": 93,
   "metadata": {},
   "outputs": [
    {
     "data": {
      "image/png": "[encoded data removed]",
      "text/plain": [
       "<Figure size 1008x1008 with 4 Axes>"
      ]
     },
     "metadata": {
      "needs_background": "light"
     },
     "output_type": "display_data"
    }
   ],
   "source": [
    "x = np.arange(len(labels))  # the label locations\n",
    "d = np.zeros_like(x)\n",
    "\n",
    "fig, (ax1, ax2, ax3, ax4) = plt.subplots(4, 1, figsize=(14,14))\n",
    "\n",
    "### CD\n",
    "ax1.plot(time_01, cum_dist_diff_nT_wT_n[:,0], '.-k')\n",
    "# ax1.tick_params('x', labelsize=6)\n",
    "\n",
    "ax1.fill_between(time_01, cum_dist_diff_nT_wT_n[:,0], where=cum_dist_diff_nT_wT_n[:,0]>=d, interpolate=True, color='C3')\n",
    "ax1.fill_between(time_01, cum_dist_diff_nT_wT_n[:,0], where=cum_dist_diff_nT_wT_n[:,0]<=d, interpolate=True, color='C0')\n",
    "\n",
    "ax1.set_ylabel('CD', size=16);\n",
    "# ax1.set_xticks(x)\n",
    "# ax4.set_xticklabels(labels, rotation=45, horizontalalignment='right')\n",
    "# ax1.set_xticklabels(labels_all, rotation=45, horizontalalignment='right')\n",
    "ax1.xaxis.set_major_formatter(myFmt)\n",
    "ax1.set_ylim([-30, 30])\n",
    "# ax1.grid() #axis='y')\n",
    "\n",
    "### AD\n",
    "ax2.plot(time_01, tot_dist_diff_nT_wT_n[:,0], '.-k')\n",
    "# ax2.tick_params('x', labelsize=6)\n",
    "\n",
    "ax2.fill_between(time_01, tot_dist_diff_nT_wT_n[:,0], where=tot_dist_diff_nT_wT_n[:,0]>=d, interpolate=True, color='C3')\n",
    "ax2.fill_between(time_01, tot_dist_diff_nT_wT_n[:,0], where=tot_dist_diff_nT_wT_n[:,0]<=d, interpolate=True, color='C0')\n",
    "\n",
    "ax2.set_ylabel('AD', size=16);\n",
    "# ax2.set_xticks(x) #x)\n",
    "# ax4.set_xticklabels(labels, rotation=45, horizontalalignment='right')\n",
    "# ax1.set_xticklabels(labels_all, rotation=45, horizontalalignment='right')\n",
    "ax2.xaxis.set_major_formatter(myFmt)\n",
    "ax2.set_ylim([-10, 10])\n",
    "# ax2.grid() #axis='y')\n",
    "\n",
    "# plt.plot(t, s2)\n",
    "# # make these tick labels invisible\n",
    "# plt.tick_params('x', labelbottom=False)\n",
    "\n",
    "### GKDE\n",
    "# x = np.arange(0,len(labels)*2,2) # the label locations\n",
    "# d=np.zeros_like(x)\n",
    "\n",
    "ax3.plot(time_01, GKDE_diff_nT_wT_n, '.-k')\n",
    "ax3.fill_between(time_01, GKDE_diff_nT_wT_n, where=GKDE_diff_nT_wT_n>=d, interpolate=True, color='C3')\n",
    "ax3.fill_between(time_01, GKDE_diff_nT_wT_n, where=GKDE_diff_nT_wT_n<=d, interpolate=True, color='C0')\n",
    "\n",
    "# ax3.set_ylabel('% difference of high convergence', size=16);\n",
    "ax3.set_ylabel('GKDE', size=16);\n",
    "# ax3.set_xticks(x)\n",
    "# ax3.set_xticklabels(labels, rotation=45, horizontalalignment='right')\n",
    "ax3.xaxis.set_major_formatter(myFmt)\n",
    "ax3.set_ylim([-200, 200])\n",
    "# ax3.grid() #axis='y')\n",
    "\n",
    "### BFTLE\n",
    "x = np.arange(len(labels_all))  # the label locations\n",
    "d=np.zeros_like(x)\n",
    "\n",
    "ax4.plot(time02c[0:-1], diff_nT_wT_n[0:-1], '.-k')\n",
    "ax4.fill_between(time02c[0:-1], diff_nT_wT_n[0:-1], where=diff_nT_wT_n[0:-1]>=d[0:-1], interpolate=True, color='C3')\n",
    "ax4.fill_between(time02c[0:-1], diff_nT_wT_n[0:-1], where=diff_nT_wT_n[0:-1]<=d[0:-1], interpolate=True, color='C0')\n",
    "\n",
    "ax4.set_ylabel('bFTLE', size=16) #% difference of high convergence', size=16);\n",
    "# ax4.set_xticks(x[0:-1])\n",
    "# ax4.set_xticklabels(labels, rotation=45, horizontalalignment='right')\n",
    "# ax4.set_xticklabels(labels_all[0:-1], rotation=45, horizontalalignment='right')\n",
    "ax4.xaxis.set_major_formatter(myFmt)\n",
    "ax4.set_ylim([-55, 55])\n",
    "# ax4.grid() #axis='y')\n",
    "\n",
    "for ax in fig.get_axes():\n",
    "    ax.set_xticks(time_02)\n",
    "    ax.grid(True, which='major', axis='both', linestyle='--', linewidth=0.5, color='gray')\n",
    "    ax.label_outer()\n",
    "\n",
    "ax4.set_xticklabels(time_02, rotation=45, horizontalalignment='right')\n",
    "# ax4.set_xlabel('Date [Year-Month-Day]', size=18)\n",
    "fig.supylabel('% increase with tides', size=18)\n",
    "\n",
    "plt.savefig('../../Figures/' + 'Joint_plot_02.jpg', dpi=300, bbox_inches='tight')\n",
    "\n",
    "plt.show()\n"
   ]
  },
  {
   "cell_type": "code",
   "execution_count": null,
   "metadata": {},
   "outputs": [],
   "source": []
  }
 ],
 "metadata": {
  "kernelspec": {
   "display_name": "Python 3 (ipykernel)",
   "language": "python",
   "name": "python3"
  },
  "language_info": {
   "codemirror_mode": {
    "name": "ipython",
    "version": 3
   },
   "file_extension": ".py",
   "mimetype": "text/x-python",
   "name": "python",
   "nbconvert_exporter": "python",
   "pygments_lexer": "ipython3",
   "version": "3.11.6"
  }
 },
 "nbformat": 4,
 "nbformat_minor": 4
}
