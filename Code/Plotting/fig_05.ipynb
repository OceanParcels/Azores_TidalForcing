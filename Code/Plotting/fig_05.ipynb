{
 "cells": [
  {
   "cell_type": "code",
   "execution_count": 1,
   "metadata": {},
   "outputs": [],
   "source": [
    "from datetime import timedelta, datetime\n",
    "from glob import glob\n",
    "import xarray as xr\n",
    "import numpy as np\n",
    "import matplotlib.gridspec as gridspec\n",
    "\n",
    "\n",
    "import matplotlib.pyplot as plt\n",
    "import cartopy\n",
    "import cartopy.crs as ccrs\n",
    "from cartopy.mpl.ticker import LongitudeFormatter, LatitudeFormatter\n",
    "\n",
    "from collections import namedtuple\n",
    "from shapely import geometry\n",
    "\n",
    "import scipy \n",
    "from scipy import stats, optimize, interpolate"
   ]
  },
  {
   "cell_type": "code",
   "execution_count": 2,
   "metadata": {},
   "outputs": [
    {
     "data": {
      "application/json": {
       "Software versions": [
        {
         "module": "Python",
         "version": "3.8.11 64bit [GCC 7.5.0]"
        },
        {
         "module": "IPython",
         "version": "7.27.0"
        },
        {
         "module": "OS",
         "version": "Linux 4.18.0 372.19.1.el8_6.x86_64 x86_64 with glibc2.17"
        },
        {
         "module": "numpy",
         "version": "1.20.3"
        },
        {
         "module": "matplotlib",
         "version": "3.4.2"
        },
        {
         "module": "xarray",
         "version": "0.19.0"
        },
        {
         "module": "cartopy",
         "version": "0.18.0"
        },
        {
         "module": "scipy",
         "version": "1.7.1"
        }
       ]
      },
      "text/html": [
       "<table><tr><th>Software</th><th>Version</th></tr><tr><td>Python</td><td>3.8.11 64bit [GCC 7.5.0]</td></tr><tr><td>IPython</td><td>7.27.0</td></tr><tr><td>OS</td><td>Linux 4.18.0 372.19.1.el8\\_6.x86\\_64 x86\\_64 with glibc2.17</td></tr><tr><td>numpy</td><td>1.20.3</td></tr><tr><td>matplotlib</td><td>3.4.2</td></tr><tr><td>xarray</td><td>0.19.0</td></tr><tr><td>cartopy</td><td>0.18.0</td></tr><tr><td>scipy</td><td>1.7.1</td></tr><tr><td colspan='2'>Wed Aug 31 17:47:55 2022 CEST</td></tr></table>"
      ],
      "text/latex": [
       "\\begin{tabular}{|l|l|}\\hline\n",
       "{\\bf Software} & {\\bf Version} \\\\ \\hline\\hline\n",
       "Python & 3.8.11 64bit [GCC 7.5.0] \\\\ \\hline\n",
       "IPython & 7.27.0 \\\\ \\hline\n",
       "OS & Linux 4.18.0 372.19.1.el8\\_6.x86\\_64 x86\\_64 with glibc2.17 \\\\ \\hline\n",
       "numpy & 1.20.3 \\\\ \\hline\n",
       "matplotlib & 3.4.2 \\\\ \\hline\n",
       "xarray & 0.19.0 \\\\ \\hline\n",
       "cartopy & 0.18.0 \\\\ \\hline\n",
       "scipy & 1.7.1 \\\\ \\hline\n",
       "\\hline \\multicolumn{2}{|l|}{Wed Aug 31 17:47:55 2022 CEST} \\\\ \\hline\n",
       "\\end{tabular}\n"
      ],
      "text/plain": [
       "Software versions\n",
       "Python 3.8.11 64bit [GCC 7.5.0]\n",
       "IPython 7.27.0\n",
       "OS Linux 4.18.0 372.19.1.el8_6.x86_64 x86_64 with glibc2.17\n",
       "numpy 1.20.3\n",
       "matplotlib 3.4.2\n",
       "xarray 0.19.0\n",
       "cartopy 0.18.0\n",
       "scipy 1.7.1\n",
       "Wed Aug 31 17:47:55 2022 CEST"
      ]
     },
     "execution_count": 2,
     "metadata": {},
     "output_type": "execute_result"
    }
   ],
   "source": [
    "%load_ext autoreload\n",
    "%autoreload 2\n",
    "%load_ext version_information\n",
    "%version_information numpy, matplotlib, xarray, cartopy, scipy"
   ]
  },
  {
   "cell_type": "code",
   "execution_count": 3,
   "metadata": {},
   "outputs": [],
   "source": [
    "filedir = '/storage/shared/oceanparcels/output_data/data_LauraGN/outputs_parcels/Azores/eNATL60/'"
   ]
  },
  {
   "cell_type": "code",
   "execution_count": 4,
   "metadata": {},
   "outputs": [],
   "source": [
    "ds_nT_Dec_month = xr.open_dataset(filedir + 'ntides/monthly/Particle_AZO_grid100000p_ntides_1201_hourly_MONTH.nc')\n",
    "ds_wT_Dec_month = xr.open_dataset(filedir + 'wtides/monthly/Particle_AZO_grid100000p_wtides_1201_hourly_MONTH.nc')\n",
    "\n",
    "ds_nT_Jan_month = xr.open_dataset(filedir + 'ntides/monthly/Particle_AZO_grid100000p_ntides_0101_hourly_MONTH.nc')\n",
    "ds_wT_Jan_month = xr.open_dataset(filedir + 'wtides/monthly/Particle_AZO_grid100000p_wtides_0101_hourly_MONTH.nc')\n",
    "\n",
    "ds_nT_Feb_month = xr.open_dataset(filedir + 'ntides/monthly/Particle_AZO_grid100000p_ntides_0201_hourly_MONTH.nc')\n",
    "ds_wT_Feb_month = xr.open_dataset(filedir + 'wtides/monthly/Particle_AZO_grid100000p_wtides_0201_hourly_MONTH.nc')\n"
   ]
  },
  {
   "cell_type": "code",
   "execution_count": 5,
   "metadata": {},
   "outputs": [],
   "source": [
    "ds_nT_Mar_month = xr.open_dataset(filedir + 'ntides/monthly/Particle_AZO_grid100000p_ntides_0301_hourly_MONTH.nc')\n",
    "ds_wT_Mar_month = xr.open_dataset(filedir + 'wtides/monthly/Particle_AZO_grid100000p_wtides_0301_hourly_MONTH.nc')\n",
    "\n",
    "ds_nT_Apr_month = xr.open_dataset(filedir + 'ntides/monthly/Particle_AZO_grid100000p_ntides_0401_hourly_MONTH.nc')\n",
    "ds_wT_Apr_month = xr.open_dataset(filedir + 'wtides/monthly/Particle_AZO_grid100000p_wtides_0401_hourly_MONTH.nc')\n",
    "\n",
    "ds_nT_May_month = xr.open_dataset(filedir + 'ntides/monthly/Particle_AZO_grid100000p_ntides_0501_hourly_MONTH.nc')\n",
    "ds_wT_May_month = xr.open_dataset(filedir + 'wtides/monthly/Particle_AZO_grid100000p_wtides_0501_hourly_MONTH.nc')\n"
   ]
  },
  {
   "cell_type": "code",
   "execution_count": 6,
   "metadata": {},
   "outputs": [],
   "source": [
    "ds_nT_Jun_month = xr.open_dataset(filedir + 'ntides/monthly/Particle_AZO_grid100000p_ntides_0601_hourly_MONTH.nc')\n",
    "ds_wT_Jun_month = xr.open_dataset(filedir + 'wtides/monthly/Particle_AZO_grid100000p_wtides_0601_hourly_MONTH.nc')\n",
    "\n",
    "ds_nT_Jul_month = xr.open_dataset(filedir + 'ntides/monthly/Particle_AZO_grid100000p_ntides_0701_hourly_MONTH.nc')\n",
    "ds_wT_Jul_month = xr.open_dataset(filedir + 'wtides/monthly/Particle_AZO_grid100000p_wtides_0701_hourly_MONTH.nc')\n",
    "\n",
    "ds_nT_Aug_month = xr.open_dataset(filedir + 'ntides/monthly/Particle_AZO_grid100000p_ntides_0801_hourly_MONTH.nc')\n",
    "ds_wT_Aug_month = xr.open_dataset(filedir + 'wtides/monthly/Particle_AZO_grid100000p_wtides_0801_hourly_MONTH.nc')\n"
   ]
  },
  {
   "cell_type": "code",
   "execution_count": 7,
   "metadata": {},
   "outputs": [],
   "source": [
    "ds_nT_Sep_month = xr.open_dataset(filedir + 'ntides/monthly/Particle_AZO_grid100000p_ntides_0901_hourly_MONTH.nc')\n",
    "ds_wT_Sep_month = xr.open_dataset(filedir + 'wtides/monthly/Particle_AZO_grid100000p_wtides_0901_hourly_MONTH.nc')\n",
    "\n",
    "ds_nT_Oct_month = xr.open_dataset(filedir + 'ntides/monthly/Particle_AZO_grid100000p_ntides_1001_hourly_MONTH.nc')\n",
    "ds_wT_Oct_month = xr.open_dataset(filedir + 'wtides/monthly/Particle_AZO_grid100000p_wtides_1001_hourly_MONTH.nc')\n",
    "\n",
    "ds_nT_Nov_month = xr.open_dataset(filedir + 'ntides/monthly/Particle_AZO_grid100000p_ntides_1101_hourly_MONTH.nc')\n",
    "ds_wT_Nov_month = xr.open_dataset(filedir + 'wtides/monthly/Particle_AZO_grid100000p_wtides_1101_hourly_MONTH.nc')\n"
   ]
  },
  {
   "cell_type": "code",
   "execution_count": 8,
   "metadata": {},
   "outputs": [],
   "source": [
    "def rem_nans(ds):\n",
    "    \"\"\"\n",
    "    This renders lon and lat variables without nans for the last timestep.\n",
    "    \"\"\"\n",
    "    bad_indices = np.isnan(ds['lon'][:,-1]) | np.isnan(ds['lat'][:,-1])\n",
    "    good_indices = ~bad_indices\n",
    "    lon_end_nonans = ds['lon'][:,-1][good_indices]\n",
    "    lat_end_nonans = ds['lat'][:,-1][good_indices]\n",
    "    \n",
    "    return lon_end_nonans, lat_end_nonans"
   ]
  },
  {
   "cell_type": "code",
   "execution_count": 9,
   "metadata": {},
   "outputs": [],
   "source": [
    "ntitles = ['Jul', 'Aug', 'Sep', 'Oct', 'Nov', 'Dec', 'Jan', 'Feb', 'Mar', 'Apr', 'May', 'Jun'] # order by OGCM months\n"
   ]
  },
  {
   "cell_type": "code",
   "execution_count": 10,
   "metadata": {},
   "outputs": [],
   "source": [
    "dsps_nT = [ds_nT_Jul_month,\n",
    "ds_nT_Aug_month,\n",
    "ds_nT_Sep_month,\n",
    "ds_nT_Oct_month,\n",
    "ds_nT_Nov_month,\n",
    "ds_nT_Dec_month,\n",
    "ds_nT_Jan_month,\n",
    "ds_nT_Feb_month,\n",
    "ds_nT_Mar_month,\n",
    "ds_nT_Apr_month,\n",
    "ds_nT_May_month,\n",
    "ds_nT_Jun_month]"
   ]
  },
  {
   "cell_type": "code",
   "execution_count": 11,
   "metadata": {},
   "outputs": [],
   "source": [
    "dsps_wT = [ds_wT_Jul_month,\n",
    "ds_wT_Aug_month,\n",
    "ds_wT_Sep_month,\n",
    "ds_wT_Oct_month,\n",
    "ds_wT_Nov_month,\n",
    "ds_wT_Dec_month,\n",
    "ds_wT_Jan_month,\n",
    "ds_wT_Feb_month,\n",
    "ds_wT_Mar_month,\n",
    "ds_wT_Apr_month,\n",
    "ds_wT_May_month,\n",
    "ds_wT_Jun_month]"
   ]
  },
  {
   "cell_type": "markdown",
   "metadata": {},
   "source": [
    "# Subregion selected:"
   ]
  },
  {
   "cell_type": "code",
   "execution_count": 13,
   "metadata": {},
   "outputs": [],
   "source": [
    "Region = namedtuple('Region',field_names=['region_name','lonmin','lonmax','latmin','latmax'])\n",
    "\n",
    "subregion =  Region(\n",
    "        region_name=\"Azores_subregion\",\n",
    "        lonmin=-27., \n",
    "        lonmax=-21., \n",
    "        latmin=32.5, \n",
    "        latmax=36.5\n",
    ")"
   ]
  },
  {
   "cell_type": "code",
   "execution_count": 14,
   "metadata": {},
   "outputs": [],
   "source": [
    "geom = geometry.box(minx=subregion.lonmin,maxx=subregion.lonmax,miny=subregion.latmin,maxy=subregion.latmax)"
   ]
  },
  {
   "cell_type": "markdown",
   "metadata": {},
   "source": [
    "# Subregion histogram 2D 0.1 degree bins:"
   ]
  },
  {
   "cell_type": "code",
   "execution_count": 15,
   "metadata": {},
   "outputs": [],
   "source": [
    "def calc_hist2d(dsp, nbins, nsubregion):\n",
    "    \"\"\"\n",
    "    xxxx\n",
    "    dsp: xarray dataset \n",
    "    \"\"\"    \n",
    "    xmin = nsubregion.lonmin\n",
    "    xmax = nsubregion.lonmax\n",
    "    ymin = nsubregion.latmin\n",
    "    ymax = nsubregion.latmax\n",
    "    \n",
    "    lon_end_nonans, lat_end_nonans = rem_nans(dsp)\n",
    "    counts, xedges, yedges = np.histogram2d(lon_end_nonans, lat_end_nonans, bins=nbins, range=((xmin, xmax), (ymin, ymax)))\n",
    "\n",
    "    return counts.ravel()\n",
    "    "
   ]
  },
  {
   "cell_type": "code",
   "execution_count": null,
   "metadata": {},
   "outputs": [],
   "source": [
    "bins_2d = (60, 40) # --> 0.1 degree"
   ]
  },
  {
   "cell_type": "code",
   "execution_count": null,
   "metadata": {},
   "outputs": [],
   "source": [
    "counts_nT = np.ones((12, 60*40)) * np.nan\n",
    "counts_wT = np.ones((12, 60*40)) * np.nan\n",
    "\n",
    "for ii in range(0, len(ntitles)):\n",
    "    counts_nT[ii,:] = calc_hist2d(dsps_nT[ii], bins_2d, subregion)\n",
    "    counts_wT[ii,:] = calc_hist2d(dsps_wT[ii], bins_2d, subregion)\n"
   ]
  },
  {
   "cell_type": "markdown",
   "metadata": {},
   "source": [
    "# Histogram 1D"
   ]
  },
  {
   "cell_type": "markdown",
   "metadata": {},
   "source": [
    "## Doing it with number of bins:"
   ]
  },
  {
   "cell_type": "markdown",
   "metadata": {},
   "source": [
    "* 10 max 70:"
   ]
  },
  {
   "cell_type": "code",
   "execution_count": 16,
   "metadata": {},
   "outputs": [],
   "source": [
    "bins_list = 10\n",
    "\n",
    "ymax_1d = 0.185\n",
    "xmax_1d = 77"
   ]
  },
  {
   "cell_type": "code",
   "execution_count": 24,
   "metadata": {},
   "outputs": [
    {
     "data": {
      "image/png": "[encoded data removed]",
      "text/plain": [
       "<Figure size 1152x936 with 12 Axes>"
      ]
     },
     "metadata": {
      "needs_background": "light"
     },
     "output_type": "display_data"
    }
   ],
   "source": [
    "fig = plt.figure(figsize=(16,13)) #(17,5)\n",
    "\n",
    "#cbar_ticks = [0.005, 0.0055, 0.006, 0.0065, 0.007, 0.0075, 0.008, 0.0085, 0.009] \n",
    "\n",
    "gs = gridspec.GridSpec(3, 4)#, width_ratios=[.33, .33, .33]) #, .01])\n",
    "#axC = plt.subplot(gs[:, -1])\n",
    "\n",
    "\n",
    "for ii in range(0, len(ntitles)):\n",
    "    ax1 = plt.subplot(gs[ii])\n",
    "    \n",
    "    ntitle = ntitles[ii]\n",
    "    ######\n",
    "    # Title\n",
    "    if ntitle in ntitles[0:6]:\n",
    "        nyear = '2009'\n",
    "    elif ntitle in ntitles[6::]:\n",
    "        nyear = '2010'\n",
    "    else:\n",
    "        print('Error nyear')\n",
    "        dgdsgsg\n",
    "        \n",
    "    strtitle = ntitle + '. ' + nyear\n",
    "    ax1.set_title(strtitle, size=16)\n",
    "    ######\n",
    "       \n",
    "    counts_nT_1, binEdges_nT = np.histogram(counts_nT[ii,:], bins=bins_list, density=True)\n",
    "    counts_wT_1, binEdges_wT = np.histogram(counts_wT[ii,:], bins=bins_list, density=True)\n",
    "        \n",
    "    bincenters_nT = 0.5 * (binEdges_nT[1:] + binEdges_nT[:-1])\n",
    "    bincenters_wT = 0.5 * (binEdges_wT[1:] + binEdges_wT[:-1])\n",
    "    \n",
    "    ax1.plot(bincenters_nT, counts_nT_1, '.-', color='C0', label='No tidal forcing', linewidth=2, markersize=10)# , linewidth=4\n",
    "    ax1.set_ylim([0, ymax_1d])\n",
    "    ax1.set_xlim([0, xmax_1d])\n",
    "    ax1.axvline(x=counts_nT[ii,:].max(), linestyle='--', color='C0')\n",
    "    \n",
    "    ax1.plot(bincenters_wT, counts_wT_1, '.-', color='C3', label='Tidal forcing', linewidth=2, markersize=10)# , linewidth=4\n",
    "    ax1.set_ylim([0, ymax_1d])\n",
    "    ax1.set_xlim([0, xmax_1d])\n",
    "    ax1.axvline(x=counts_wT[ii,:].max(), linestyle='--', color='C3')\n",
    "    \n",
    "    #skw_2D_wT, _ = plot_hist1d_particles_b(dsps_wT[ii], ax1, bins_list, ntitles[ii], labelf='Tidal', ncolor='r')\n",
    "    ax1.grid()\n",
    "    ax1.tick_params(axis='both', which='major', labelsize=14)\n",
    "\n",
    "    if ii == 0:\n",
    "        legend = ax1.legend(loc=0, fontsize=12)\n",
    "        legend.get_frame().set_alpha(None)\n",
    "        legend.get_frame().set_facecolor('white')\n",
    "    if ((ii==4)):\n",
    "        ax1.set_ylabel('Normalized frequency', size=20) # Normalized bin counts\n",
    "    if ((ii==9)):\n",
    "        ax1.set_xlabel('                                    2D bin counts', size=20)\n",
    "    if ii<8 :\n",
    "        ax1.axes.xaxis.set_ticklabels([])\n",
    "    if (ii != 0) & (ii != 4) & (ii != 8) :\n",
    "        ax1.axes.yaxis.set_ticklabels([])\n",
    "        \n",
    "plt.savefig('../../Figures/' + 'hist1d_nT_wT_monthly_nobox.jpg', dpi=300)\n",
    "  \n",
    "plt.show()\n"
   ]
  },
  {
   "cell_type": "code",
   "execution_count": null,
   "metadata": {},
   "outputs": [],
   "source": []
  }
 ],
 "metadata": {
  "anaconda-cloud": {},
  "celltoolbar": "Tags",
  "kernelspec": {
   "display_name": "Python 3 (ipykernel)",
   "language": "python",
   "name": "python3"
  },
  "language_info": {
   "codemirror_mode": {
    "name": "ipython",
    "version": 3
   },
   "file_extension": ".py",
   "mimetype": "text/x-python",
   "name": "python",
   "nbconvert_exporter": "python",
   "pygments_lexer": "ipython3",
   "version": "3.11.6"
  }
 },
 "nbformat": 4,
 "nbformat_minor": 4
}
