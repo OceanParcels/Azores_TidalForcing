{
 "cells": [
  {
   "cell_type": "code",
   "execution_count": 1,
   "metadata": {},
   "outputs": [],
   "source": [
    "%matplotlib inline\n",
    "from datetime import timedelta, datetime\n",
    "from glob import glob\n",
    "import xarray as xr\n",
    "import numpy as np\n",
    "import matplotlib.pyplot as plt\n",
    "import matplotlib\n",
    "import matplotlib.dates as mdates\n",
    "import xarray as xr\n",
    "\n",
    "from matplotlib import colors \n",
    "import matplotlib.gridspec as gridspec\n",
    "#import seaborn as sns\n",
    "\n",
    "import cartopy\n",
    "import cartopy.crs as ccrs\n",
    "from cartopy.mpl.ticker import LongitudeFormatter, LatitudeFormatter\n",
    "\n",
    "from collections import namedtuple\n",
    "from shapely import geometry\n",
    "\n",
    "import scipy \n",
    "from scipy import stats, optimize, interpolate"
   ]
  },
  {
   "cell_type": "code",
   "execution_count": 2,
   "metadata": {
    "scrolled": true,
    "tags": []
   },
   "outputs": [
    {
     "data": {
      "application/json": {
       "Software versions": [
        {
         "module": "Python",
         "version": "3.8.11 64bit [GCC 7.5.0]"
        },
        {
         "module": "IPython",
         "version": "7.27.0"
        },
        {
         "module": "OS",
         "version": "Linux 4.18.0 372.19.1.el8_6.x86_64 x86_64 with glibc2.17"
        },
        {
         "module": "numpy",
         "version": "1.20.3"
        },
        {
         "module": "matplotlib",
         "version": "3.4.2"
        },
        {
         "module": "xarray",
         "version": "0.19.0"
        },
        {
         "module": "cartopy",
         "version": "0.18.0"
        },
        {
         "module": "scipy",
         "version": "1.7.1"
        }
       ]
      },
      "text/html": [
       "<table><tr><th>Software</th><th>Version</th></tr><tr><td>Python</td><td>3.8.11 64bit [GCC 7.5.0]</td></tr><tr><td>IPython</td><td>7.27.0</td></tr><tr><td>OS</td><td>Linux 4.18.0 372.19.1.el8\\_6.x86\\_64 x86\\_64 with glibc2.17</td></tr><tr><td>numpy</td><td>1.20.3</td></tr><tr><td>matplotlib</td><td>3.4.2</td></tr><tr><td>xarray</td><td>0.19.0</td></tr><tr><td>cartopy</td><td>0.18.0</td></tr><tr><td>scipy</td><td>1.7.1</td></tr><tr><td colspan='2'>Thu Sep 01 14:12:13 2022 CEST</td></tr></table>"
      ],
      "text/latex": [
       "\\begin{tabular}{|l|l|}\\hline\n",
       "{\\bf Software} & {\\bf Version} \\\\ \\hline\\hline\n",
       "Python & 3.8.11 64bit [GCC 7.5.0] \\\\ \\hline\n",
       "IPython & 7.27.0 \\\\ \\hline\n",
       "OS & Linux 4.18.0 372.19.1.el8\\_6.x86\\_64 x86\\_64 with glibc2.17 \\\\ \\hline\n",
       "numpy & 1.20.3 \\\\ \\hline\n",
       "matplotlib & 3.4.2 \\\\ \\hline\n",
       "xarray & 0.19.0 \\\\ \\hline\n",
       "cartopy & 0.18.0 \\\\ \\hline\n",
       "scipy & 1.7.1 \\\\ \\hline\n",
       "\\hline \\multicolumn{2}{|l|}{Thu Sep 01 14:12:13 2022 CEST} \\\\ \\hline\n",
       "\\end{tabular}\n"
      ],
      "text/plain": [
       "Software versions\n",
       "Python 3.8.11 64bit [GCC 7.5.0]\n",
       "IPython 7.27.0\n",
       "OS Linux 4.18.0 372.19.1.el8_6.x86_64 x86_64 with glibc2.17\n",
       "numpy 1.20.3\n",
       "matplotlib 3.4.2\n",
       "xarray 0.19.0\n",
       "cartopy 0.18.0\n",
       "scipy 1.7.1\n",
       "Thu Sep 01 14:12:13 2022 CEST"
      ]
     },
     "execution_count": 2,
     "metadata": {},
     "output_type": "execute_result"
    }
   ],
   "source": [
    "%load_ext autoreload\n",
    "%autoreload 2\n",
    "%load_ext version_information\n",
    "%version_information numpy, matplotlib, xarray, cartopy, scipy"
   ]
  },
  {
   "cell_type": "markdown",
   "metadata": {
    "tags": []
   },
   "source": [
    "# Cumsum data calculated here:\n",
    "http://localhost:9000/lab/tree/parcels_Azores/eNATL60/local_gemini_notebooks/2022-01-20_CUMSUM_dist_degrees.ipynb\n",
    "## --> edit\n",
    "# Tot distance calculated here:\n",
    "* dist_tot_km_monthly_nT.sh \n",
    "* dist_tot_km_monthly_wT.sh  "
   ]
  },
  {
   "cell_type": "markdown",
   "metadata": {},
   "source": [
    "## Loading cumsum data:"
   ]
  },
  {
   "cell_type": "code",
   "execution_count": 3,
   "metadata": {},
   "outputs": [],
   "source": [
    "filedir = '/storage/shared/oceanparcels/output_data/data_LauraGN/outputs_parcels/Azores/eNATL60/'"
   ]
  },
  {
   "cell_type": "code",
   "execution_count": 4,
   "metadata": {},
   "outputs": [],
   "source": [
    "distance_Jul_nT = xr.open_dataset(filedir + 'dist_km_Jul_nT.nc')\n",
    "distance_Aug_nT = xr.open_dataset(filedir + 'dist_km_Aug_nT.nc')\n",
    "distance_Sep_nT = xr.open_dataset(filedir + 'dist_km_Sep_nT.nc')\n",
    "distance_Oct_nT = xr.open_dataset(filedir + 'dist_km_Oct_nT.nc')\n",
    "distance_Nov_nT = xr.open_dataset(filedir + 'dist_km_Nov_nT.nc')\n",
    "distance_Dec_nT = xr.open_dataset(filedir + 'dist_km_Dec_nT.nc')\n",
    "distance_Jan_nT = xr.open_dataset(filedir + 'dist_km_Jan_nT.nc')\n",
    "distance_Feb_nT = xr.open_dataset(filedir + 'dist_km_Feb_nT.nc')\n",
    "distance_Mar_nT = xr.open_dataset(filedir + 'dist_km_Mar_nT.nc')\n",
    "distance_Apr_nT = xr.open_dataset(filedir + 'dist_km_Apr_nT.nc')\n",
    "distance_May_nT = xr.open_dataset(filedir + 'dist_km_May_nT.nc')\n",
    "distance_Jun_nT = xr.open_dataset(filedir + 'dist_km_Jun_nT.nc')\n"
   ]
  },
  {
   "cell_type": "code",
   "execution_count": 5,
   "metadata": {},
   "outputs": [],
   "source": [
    "distance_Jul_wT = xr.open_dataset(filedir + 'dist_km_Jul_wT.nc')\n",
    "distance_Aug_wT = xr.open_dataset(filedir + 'dist_km_Aug_wT.nc')\n",
    "distance_Sep_wT = xr.open_dataset(filedir + 'dist_km_Sep_wT.nc')\n",
    "distance_Oct_wT = xr.open_dataset(filedir + 'dist_km_Oct_wT.nc')\n",
    "distance_Nov_wT = xr.open_dataset(filedir + 'dist_km_Nov_wT.nc')\n",
    "distance_Dec_wT = xr.open_dataset(filedir + 'dist_km_Dec_wT.nc')\n",
    "distance_Jan_wT = xr.open_dataset(filedir + 'dist_km_Jan_wT.nc')\n",
    "distance_Feb_wT = xr.open_dataset(filedir + 'dist_km_Feb_wT.nc')\n",
    "distance_Mar_wT = xr.open_dataset(filedir + 'dist_km_Mar_wT.nc')\n",
    "distance_Apr_wT = xr.open_dataset(filedir + 'dist_km_Apr_wT.nc')\n",
    "distance_May_wT = xr.open_dataset(filedir + 'dist_km_May_wT.nc')\n",
    "distance_Jun_wT = xr.open_dataset(filedir + 'dist_km_Jun_wT.nc')\n"
   ]
  },
  {
   "cell_type": "code",
   "execution_count": 6,
   "metadata": {},
   "outputs": [
    {
     "data": {
      "text/html": [
       "<div><svg style=\"position: absolute; width: 0; height: 0; overflow: hidden\">\n",
       "<defs>\n",
       "<symbol id=\"icon-database\" viewBox=\"0 0 32 32\">\n",
       "<path d=\"M16 0c-8.837 0-16 2.239-16 5v4c0 2.761 7.163 5 16 5s16-2.239 16-5v-4c0-2.761-7.163-5-16-5z\"></path>\n",
       "<path d=\"M16 17c-8.837 0-16-2.239-16-5v6c0 2.761 7.163 5 16 5s16-2.239 16-5v-6c0 2.761-7.163 5-16 5z\"></path>\n",
       "<path d=\"M16 26c-8.837 0-16-2.239-16-5v6c0 2.761 7.163 5 16 5s16-2.239 16-5v-6c0 2.761-7.163 5-16 5z\"></path>\n",
       "</symbol>\n",
       "<symbol id=\"icon-file-text2\" viewBox=\"0 0 32 32\">\n",
       "<path d=\"M28.681 7.159c-0.694-0.947-1.662-2.053-2.724-3.116s-2.169-2.030-3.116-2.724c-1.612-1.182-2.393-1.319-2.841-1.319h-15.5c-1.378 0-2.5 1.121-2.5 2.5v27c0 1.378 1.122 2.5 2.5 2.5h23c1.378 0 2.5-1.122 2.5-2.5v-19.5c0-0.448-0.137-1.23-1.319-2.841zM24.543 5.457c0.959 0.959 1.712 1.825 2.268 2.543h-4.811v-4.811c0.718 0.556 1.584 1.309 2.543 2.268zM28 29.5c0 0.271-0.229 0.5-0.5 0.5h-23c-0.271 0-0.5-0.229-0.5-0.5v-27c0-0.271 0.229-0.5 0.5-0.5 0 0 15.499-0 15.5 0v7c0 0.552 0.448 1 1 1h7v19.5z\"></path>\n",
       "<path d=\"M23 26h-14c-0.552 0-1-0.448-1-1s0.448-1 1-1h14c0.552 0 1 0.448 1 1s-0.448 1-1 1z\"></path>\n",
       "<path d=\"M23 22h-14c-0.552 0-1-0.448-1-1s0.448-1 1-1h14c0.552 0 1 0.448 1 1s-0.448 1-1 1z\"></path>\n",
       "<path d=\"M23 18h-14c-0.552 0-1-0.448-1-1s0.448-1 1-1h14c0.552 0 1 0.448 1 1s-0.448 1-1 1z\"></path>\n",
       "</symbol>\n",
       "</defs>\n",
       "</svg>\n",
       "<style>/* CSS stylesheet for displaying xarray objects in jupyterlab.\n",
       " *\n",
       " */\n",
       "\n",
       ":root {\n",
       "  --xr-font-color0: var(--jp-content-font-color0, rgba(0, 0, 0, 1));\n",
       "  --xr-font-color2: var(--jp-content-font-color2, rgba(0, 0, 0, 0.54));\n",
       "  --xr-font-color3: var(--jp-content-font-color3, rgba(0, 0, 0, 0.38));\n",
       "  --xr-border-color: var(--jp-border-color2, #e0e0e0);\n",
       "  --xr-disabled-color: var(--jp-layout-color3, #bdbdbd);\n",
       "  --xr-background-color: var(--jp-layout-color0, white);\n",
       "  --xr-background-color-row-even: var(--jp-layout-color1, white);\n",
       "  --xr-background-color-row-odd: var(--jp-layout-color2, #eeeeee);\n",
       "}\n",
       "\n",
       "html[theme=dark],\n",
       "body.vscode-dark {\n",
       "  --xr-font-color0: rgba(255, 255, 255, 1);\n",
       "  --xr-font-color2: rgba(255, 255, 255, 0.54);\n",
       "  --xr-font-color3: rgba(255, 255, 255, 0.38);\n",
       "  --xr-border-color: #1F1F1F;\n",
       "  --xr-disabled-color: #515151;\n",
       "  --xr-background-color: #111111;\n",
       "  --xr-background-color-row-even: #111111;\n",
       "  --xr-background-color-row-odd: #313131;\n",
       "}\n",
       "\n",
       ".xr-wrap {\n",
       "  display: block;\n",
       "  min-width: 300px;\n",
       "  max-width: 700px;\n",
       "}\n",
       "\n",
       ".xr-text-repr-fallback {\n",
       "  /* fallback to plain text repr when CSS is not injected (untrusted notebook) */\n",
       "  display: none;\n",
       "}\n",
       "\n",
       ".xr-header {\n",
       "  padding-top: 6px;\n",
       "  padding-bottom: 6px;\n",
       "  margin-bottom: 4px;\n",
       "  border-bottom: solid 1px var(--xr-border-color);\n",
       "}\n",
       "\n",
       ".xr-header > div,\n",
       ".xr-header > ul {\n",
       "  display: inline;\n",
       "  margin-top: 0;\n",
       "  margin-bottom: 0;\n",
       "}\n",
       "\n",
       ".xr-obj-type,\n",
       ".xr-array-name {\n",
       "  margin-left: 2px;\n",
       "  margin-right: 10px;\n",
       "}\n",
       "\n",
       ".xr-obj-type {\n",
       "  color: var(--xr-font-color2);\n",
       "}\n",
       "\n",
       ".xr-sections {\n",
       "  padding-left: 0 !important;\n",
       "  display: grid;\n",
       "  grid-template-columns: 150px auto auto 1fr 20px 20px;\n",
       "}\n",
       "\n",
       ".xr-section-item {\n",
       "  display: contents;\n",
       "}\n",
       "\n",
       ".xr-section-item input {\n",
       "  display: none;\n",
       "}\n",
       "\n",
       ".xr-section-item input + label {\n",
       "  color: var(--xr-disabled-color);\n",
       "}\n",
       "\n",
       ".xr-section-item input:enabled + label {\n",
       "  cursor: pointer;\n",
       "  color: var(--xr-font-color2);\n",
       "}\n",
       "\n",
       ".xr-section-item input:enabled + label:hover {\n",
       "  color: var(--xr-font-color0);\n",
       "}\n",
       "\n",
       ".xr-section-summary {\n",
       "  grid-column: 1;\n",
       "  color: var(--xr-font-color2);\n",
       "  font-weight: 500;\n",
       "}\n",
       "\n",
       ".xr-section-summary > span {\n",
       "  display: inline-block;\n",
       "  padding-left: 0.5em;\n",
       "}\n",
       "\n",
       ".xr-section-summary-in:disabled + label {\n",
       "  color: var(--xr-font-color2);\n",
       "}\n",
       "\n",
       ".xr-section-summary-in + label:before {\n",
       "  display: inline-block;\n",
       "  content: '►';\n",
       "  font-size: 11px;\n",
       "  width: 15px;\n",
       "  text-align: center;\n",
       "}\n",
       "\n",
       ".xr-section-summary-in:disabled + label:before {\n",
       "  color: var(--xr-disabled-color);\n",
       "}\n",
       "\n",
       ".xr-section-summary-in:checked + label:before {\n",
       "  content: '▼';\n",
       "}\n",
       "\n",
       ".xr-section-summary-in:checked + label > span {\n",
       "  display: none;\n",
       "}\n",
       "\n",
       ".xr-section-summary,\n",
       ".xr-section-inline-details {\n",
       "  padding-top: 4px;\n",
       "  padding-bottom: 4px;\n",
       "}\n",
       "\n",
       ".xr-section-inline-details {\n",
       "  grid-column: 2 / -1;\n",
       "}\n",
       "\n",
       ".xr-section-details {\n",
       "  display: none;\n",
       "  grid-column: 1 / -1;\n",
       "  margin-bottom: 5px;\n",
       "}\n",
       "\n",
       ".xr-section-summary-in:checked ~ .xr-section-details {\n",
       "  display: contents;\n",
       "}\n",
       "\n",
       ".xr-array-wrap {\n",
       "  grid-column: 1 / -1;\n",
       "  display: grid;\n",
       "  grid-template-columns: 20px auto;\n",
       "}\n",
       "\n",
       ".xr-array-wrap > label {\n",
       "  grid-column: 1;\n",
       "  vertical-align: top;\n",
       "}\n",
       "\n",
       ".xr-preview {\n",
       "  color: var(--xr-font-color3);\n",
       "}\n",
       "\n",
       ".xr-array-preview,\n",
       ".xr-array-data {\n",
       "  padding: 0 5px !important;\n",
       "  grid-column: 2;\n",
       "}\n",
       "\n",
       ".xr-array-data,\n",
       ".xr-array-in:checked ~ .xr-array-preview {\n",
       "  display: none;\n",
       "}\n",
       "\n",
       ".xr-array-in:checked ~ .xr-array-data,\n",
       ".xr-array-preview {\n",
       "  display: inline-block;\n",
       "}\n",
       "\n",
       ".xr-dim-list {\n",
       "  display: inline-block !important;\n",
       "  list-style: none;\n",
       "  padding: 0 !important;\n",
       "  margin: 0;\n",
       "}\n",
       "\n",
       ".xr-dim-list li {\n",
       "  display: inline-block;\n",
       "  padding: 0;\n",
       "  margin: 0;\n",
       "}\n",
       "\n",
       ".xr-dim-list:before {\n",
       "  content: '(';\n",
       "}\n",
       "\n",
       ".xr-dim-list:after {\n",
       "  content: ')';\n",
       "}\n",
       "\n",
       ".xr-dim-list li:not(:last-child):after {\n",
       "  content: ',';\n",
       "  padding-right: 5px;\n",
       "}\n",
       "\n",
       ".xr-has-index {\n",
       "  font-weight: bold;\n",
       "}\n",
       "\n",
       ".xr-var-list,\n",
       ".xr-var-item {\n",
       "  display: contents;\n",
       "}\n",
       "\n",
       ".xr-var-item > div,\n",
       ".xr-var-item label,\n",
       ".xr-var-item > .xr-var-name span {\n",
       "  background-color: var(--xr-background-color-row-even);\n",
       "  margin-bottom: 0;\n",
       "}\n",
       "\n",
       ".xr-var-item > .xr-var-name:hover span {\n",
       "  padding-right: 5px;\n",
       "}\n",
       "\n",
       ".xr-var-list > li:nth-child(odd) > div,\n",
       ".xr-var-list > li:nth-child(odd) > label,\n",
       ".xr-var-list > li:nth-child(odd) > .xr-var-name span {\n",
       "  background-color: var(--xr-background-color-row-odd);\n",
       "}\n",
       "\n",
       ".xr-var-name {\n",
       "  grid-column: 1;\n",
       "}\n",
       "\n",
       ".xr-var-dims {\n",
       "  grid-column: 2;\n",
       "}\n",
       "\n",
       ".xr-var-dtype {\n",
       "  grid-column: 3;\n",
       "  text-align: right;\n",
       "  color: var(--xr-font-color2);\n",
       "}\n",
       "\n",
       ".xr-var-preview {\n",
       "  grid-column: 4;\n",
       "}\n",
       "\n",
       ".xr-var-name,\n",
       ".xr-var-dims,\n",
       ".xr-var-dtype,\n",
       ".xr-preview,\n",
       ".xr-attrs dt {\n",
       "  white-space: nowrap;\n",
       "  overflow: hidden;\n",
       "  text-overflow: ellipsis;\n",
       "  padding-right: 10px;\n",
       "}\n",
       "\n",
       ".xr-var-name:hover,\n",
       ".xr-var-dims:hover,\n",
       ".xr-var-dtype:hover,\n",
       ".xr-attrs dt:hover {\n",
       "  overflow: visible;\n",
       "  width: auto;\n",
       "  z-index: 1;\n",
       "}\n",
       "\n",
       ".xr-var-attrs,\n",
       ".xr-var-data {\n",
       "  display: none;\n",
       "  background-color: var(--xr-background-color) !important;\n",
       "  padding-bottom: 5px !important;\n",
       "}\n",
       "\n",
       ".xr-var-attrs-in:checked ~ .xr-var-attrs,\n",
       ".xr-var-data-in:checked ~ .xr-var-data {\n",
       "  display: block;\n",
       "}\n",
       "\n",
       ".xr-var-data > table {\n",
       "  float: right;\n",
       "}\n",
       "\n",
       ".xr-var-name span,\n",
       ".xr-var-data,\n",
       ".xr-attrs {\n",
       "  padding-left: 25px !important;\n",
       "}\n",
       "\n",
       ".xr-attrs,\n",
       ".xr-var-attrs,\n",
       ".xr-var-data {\n",
       "  grid-column: 1 / -1;\n",
       "}\n",
       "\n",
       "dl.xr-attrs {\n",
       "  padding: 0;\n",
       "  margin: 0;\n",
       "  display: grid;\n",
       "  grid-template-columns: 125px auto;\n",
       "}\n",
       "\n",
       ".xr-attrs dt,\n",
       ".xr-attrs dd {\n",
       "  padding: 0;\n",
       "  margin: 0;\n",
       "  float: left;\n",
       "  padding-right: 10px;\n",
       "  width: auto;\n",
       "}\n",
       "\n",
       ".xr-attrs dt {\n",
       "  font-weight: normal;\n",
       "  grid-column: 1;\n",
       "}\n",
       "\n",
       ".xr-attrs dt:hover span {\n",
       "  display: inline-block;\n",
       "  background: var(--xr-background-color);\n",
       "  padding-right: 10px;\n",
       "}\n",
       "\n",
       ".xr-attrs dd {\n",
       "  grid-column: 2;\n",
       "  white-space: pre-wrap;\n",
       "  word-break: break-all;\n",
       "}\n",
       "\n",
       ".xr-icon-database,\n",
       ".xr-icon-file-text2 {\n",
       "  display: inline-block;\n",
       "  vertical-align: middle;\n",
       "  width: 1em;\n",
       "  height: 1.5em !important;\n",
       "  stroke-width: 0;\n",
       "  stroke: currentColor;\n",
       "  fill: currentColor;\n",
       "}\n",
       "</style><pre class='xr-text-repr-fallback'>&lt;xarray.Dataset&gt;\n",
       "Dimensions:  (traj: 106926, obs: 673)\n",
       "Dimensions without coordinates: traj, obs\n",
       "Data variables:\n",
       "    lon      (traj, obs) float64 ...</pre><div class='xr-wrap' hidden><div class='xr-header'><div class='xr-obj-type'>xarray.Dataset</div></div><ul class='xr-sections'><li class='xr-section-item'><input id='section-60c6c806-b769-43e4-8b82-13657be777dc' class='xr-section-summary-in' type='checkbox' disabled ><label for='section-60c6c806-b769-43e4-8b82-13657be777dc' class='xr-section-summary'  title='Expand/collapse section'>Dimensions:</label><div class='xr-section-inline-details'><ul class='xr-dim-list'><li><span>traj</span>: 106926</li><li><span>obs</span>: 673</li></ul></div><div class='xr-section-details'></div></li><li class='xr-section-item'><input id='section-8793afb9-38bf-442e-b04c-bcd717b8a737' class='xr-section-summary-in' type='checkbox' disabled ><label for='section-8793afb9-38bf-442e-b04c-bcd717b8a737' class='xr-section-summary'  title='Expand/collapse section'>Coordinates: <span>(0)</span></label><div class='xr-section-inline-details'></div><div class='xr-section-details'><ul class='xr-var-list'></ul></div></li><li class='xr-section-item'><input id='section-150ff2cc-6fe3-4a90-8dd3-39f1d8b23eaa' class='xr-section-summary-in' type='checkbox'  checked><label for='section-150ff2cc-6fe3-4a90-8dd3-39f1d8b23eaa' class='xr-section-summary' >Data variables: <span>(1)</span></label><div class='xr-section-inline-details'></div><div class='xr-section-details'><ul class='xr-var-list'><li class='xr-var-item'><div class='xr-var-name'><span>lon</span></div><div class='xr-var-dims'>(traj, obs)</div><div class='xr-var-dtype'>float64</div><div class='xr-var-preview xr-preview'>...</div><input id='attrs-17ead48d-d401-4481-b978-d7002efb6439' class='xr-var-attrs-in' type='checkbox' disabled><label for='attrs-17ead48d-d401-4481-b978-d7002efb6439' title='Show/Hide attributes'><svg class='icon xr-icon-file-text2'><use xlink:href='#icon-file-text2'></use></svg></label><input id='data-7db65df4-a31f-4b08-9f40-a1e0ea9611ac' class='xr-var-data-in' type='checkbox'><label for='data-7db65df4-a31f-4b08-9f40-a1e0ea9611ac' title='Show/Hide data repr'><svg class='icon xr-icon-database'><use xlink:href='#icon-database'></use></svg></label><div class='xr-var-attrs'><dl class='xr-attrs'></dl></div><div class='xr-var-data'><pre>[71961198 values with dtype=float64]</pre></div></li></ul></div></li><li class='xr-section-item'><input id='section-a5877efe-3560-477d-8933-669dc81733fa' class='xr-section-summary-in' type='checkbox' disabled ><label for='section-a5877efe-3560-477d-8933-669dc81733fa' class='xr-section-summary'  title='Expand/collapse section'>Attributes: <span>(0)</span></label><div class='xr-section-inline-details'></div><div class='xr-section-details'><dl class='xr-attrs'></dl></div></li></ul></div></div>"
      ],
      "text/plain": [
       "<xarray.Dataset>\n",
       "Dimensions:  (traj: 106926, obs: 673)\n",
       "Dimensions without coordinates: traj, obs\n",
       "Data variables:\n",
       "    lon      (traj, obs) float64 ..."
      ]
     },
     "execution_count": 6,
     "metadata": {},
     "output_type": "execute_result"
    }
   ],
   "source": [
    "distance_Jul_wT"
   ]
  },
  {
   "cell_type": "markdown",
   "metadata": {
    "tags": []
   },
   "source": [
    "# Calculating cumsum dist:"
   ]
  },
  {
   "cell_type": "markdown",
   "metadata": {},
   "source": [
    "## Applying calculation:"
   ]
  },
  {
   "cell_type": "code",
   "execution_count": 16,
   "metadata": {},
   "outputs": [],
   "source": [
    "cum_distance_nT = [distance_Jul_nT.to_array()[0].cumsum(dim='obs'), distance_Aug_nT.to_array()[0].cumsum(dim='obs'), distance_Sep_nT.to_array()[0].cumsum(dim='obs'), distance_Oct_nT.to_array()[0].cumsum(dim='obs'), distance_Nov_nT.to_array()[0].cumsum(dim='obs'), distance_Dec_nT.to_array()[0].cumsum(dim='obs'),\n",
    "                   distance_Jan_nT.to_array()[0].cumsum(dim='obs'), distance_Feb_nT.to_array()[0].cumsum(dim='obs'), distance_Mar_nT.to_array()[0].cumsum(dim='obs'), distance_Apr_nT.to_array()[0].cumsum(dim='obs'), distance_May_nT.to_array()[0].cumsum(dim='obs'), distance_Jun_nT.to_array()[0].cumsum(dim='obs')]"
   ]
  },
  {
   "cell_type": "code",
   "execution_count": 17,
   "metadata": {},
   "outputs": [],
   "source": [
    "cum_distance_wT = [distance_Jul_wT.to_array()[0].cumsum(dim='obs'), distance_Aug_wT.to_array()[0].cumsum(dim='obs'), distance_Sep_wT.to_array()[0].cumsum(dim='obs'), distance_Oct_wT.to_array()[0].cumsum(dim='obs'), distance_Nov_wT.to_array()[0].cumsum(dim='obs'), distance_Dec_wT.to_array()[0].cumsum(dim='obs'),\n",
    "                   distance_Jan_wT.to_array()[0].cumsum(dim='obs'), distance_Feb_wT.to_array()[0].cumsum(dim='obs'), distance_Mar_wT.to_array()[0].cumsum(dim='obs'), distance_Apr_wT.to_array()[0].cumsum(dim='obs'), distance_May_wT.to_array()[0].cumsum(dim='obs'), distance_Jun_wT.to_array()[0].cumsum(dim='obs')]"
   ]
  },
  {
   "cell_type": "markdown",
   "metadata": {},
   "source": [
    "## Loading tot_dist data:cumulative_integrate"
   ]
  },
  {
   "cell_type": "code",
   "execution_count": 19,
   "metadata": {},
   "outputs": [],
   "source": [
    "filedir_t = '/storage/shared/oceanparcels/output_data/data_LauraGN/outputs_parcels/Azores/eNATL60/dist_tot_km/'"
   ]
  },
  {
   "cell_type": "code",
   "execution_count": 20,
   "metadata": {},
   "outputs": [],
   "source": [
    "dist_tot_km_nT_Jul = xr.open_dataset(filedir_t + 'dist_tot_km_nT_Jul.nc')\n",
    "dist_tot_km_nT_Aug = xr.open_dataset(filedir_t + 'dist_tot_km_nT_Aug.nc')\n",
    "dist_tot_km_nT_Sep = xr.open_dataset(filedir_t + 'dist_tot_km_nT_Sep.nc')\n",
    "dist_tot_km_nT_Oct = xr.open_dataset(filedir_t + 'dist_tot_km_nT_Oct.nc')\n",
    "dist_tot_km_nT_Nov = xr.open_dataset(filedir_t + 'dist_tot_km_nT_Nov.nc')\n",
    "dist_tot_km_nT_Dec = xr.open_dataset(filedir_t + 'dist_tot_km_nT_Dec.nc')\n",
    "dist_tot_km_nT_Jan = xr.open_dataset(filedir_t + 'dist_tot_km_nT_Jan.nc')\n",
    "dist_tot_km_nT_Feb = xr.open_dataset(filedir_t + 'dist_tot_km_nT_Feb.nc')\n",
    "dist_tot_km_nT_Mar = xr.open_dataset(filedir_t + 'dist_tot_km_nT_Mar.nc')\n",
    "dist_tot_km_nT_Apr = xr.open_dataset(filedir_t + 'dist_tot_km_nT_Apr.nc')\n",
    "dist_tot_km_nT_May = xr.open_dataset(filedir_t + 'dist_tot_km_nT_May.nc')\n",
    "dist_tot_km_nT_Jun = xr.open_dataset(filedir_t + 'dist_tot_km_nT_Jun.nc')"
   ]
  },
  {
   "cell_type": "code",
   "execution_count": 21,
   "metadata": {},
   "outputs": [],
   "source": [
    "dist_tot_km_wT_Jul = xr.open_dataset(filedir_t + 'dist_tot_km_wT_Jul.nc')\n",
    "dist_tot_km_wT_Aug = xr.open_dataset(filedir_t + 'dist_tot_km_wT_Aug.nc')\n",
    "dist_tot_km_wT_Sep = xr.open_dataset(filedir_t + 'dist_tot_km_wT_Sep.nc')\n",
    "dist_tot_km_wT_Oct = xr.open_dataset(filedir_t + 'dist_tot_km_wT_Oct.nc')\n",
    "dist_tot_km_wT_Nov = xr.open_dataset(filedir_t + 'dist_tot_km_wT_Nov.nc')\n",
    "dist_tot_km_wT_Dec = xr.open_dataset(filedir_t + 'dist_tot_km_wT_Dec.nc')\n",
    "dist_tot_km_wT_Jan = xr.open_dataset(filedir_t + 'dist_tot_km_wT_Jan.nc')\n",
    "dist_tot_km_wT_Feb = xr.open_dataset(filedir_t + 'dist_tot_km_wT_Feb.nc')\n",
    "dist_tot_km_wT_Mar = xr.open_dataset(filedir_t + 'dist_tot_km_wT_Mar.nc')\n",
    "dist_tot_km_wT_Apr = xr.open_dataset(filedir_t + 'dist_tot_km_wT_Apr.nc')\n",
    "dist_tot_km_wT_May = xr.open_dataset(filedir_t + 'dist_tot_km_wT_May.nc')\n",
    "dist_tot_km_wT_Jun = xr.open_dataset(filedir_t + 'dist_tot_km_wT_Jun.nc')\n"
   ]
  },
  {
   "cell_type": "code",
   "execution_count": 22,
   "metadata": {},
   "outputs": [],
   "source": [
    "dist_tot_km_nT = [dist_tot_km_nT_Jul, dist_tot_km_nT_Aug, dist_tot_km_nT_Sep, dist_tot_km_nT_Oct, dist_tot_km_nT_Nov, dist_tot_km_nT_Dec, \n",
    "                  dist_tot_km_nT_Jan, dist_tot_km_nT_Feb, dist_tot_km_nT_Mar, dist_tot_km_nT_Apr, dist_tot_km_nT_May, dist_tot_km_nT_Jun]"
   ]
  },
  {
   "cell_type": "code",
   "execution_count": 23,
   "metadata": {},
   "outputs": [],
   "source": [
    "dist_tot_km_wT = [dist_tot_km_wT_Jul, dist_tot_km_wT_Aug, dist_tot_km_wT_Sep, dist_tot_km_wT_Oct, dist_tot_km_wT_Nov, dist_tot_km_wT_Dec, \n",
    "                  dist_tot_km_wT_Jan, dist_tot_km_wT_Feb, dist_tot_km_wT_Mar, dist_tot_km_wT_Apr, dist_tot_km_wT_May, dist_tot_km_wT_Jun]"
   ]
  },
  {
   "cell_type": "markdown",
   "metadata": {},
   "source": [
    "# Boxplot:"
   ]
  },
  {
   "cell_type": "code",
   "execution_count": 24,
   "metadata": {},
   "outputs": [],
   "source": [
    "width = 0.35  # the width of the bars\n",
    "labels = ['Jul. 2009', 'Aug. 2009', 'Sep. 2009', 'Oct. 2009', 'Nov. 2009', 'Dec. 2009', 'Jan. 2010', 'Feb. 2010', 'Mar. 2010', 'Apr. 2010', 'May. 2010', 'Jun. 2010'] \n",
    "x = np.arange(len(labels))  # the label locations\n"
   ]
  },
  {
   "cell_type": "code",
   "execution_count": 25,
   "metadata": {},
   "outputs": [],
   "source": [
    "dist_cum_a = []\n",
    "dist_cum_b = []\n",
    "\n",
    "for ii in range(0, len(labels)):\n",
    "    aa = ((cum_distance_nT[ii].max(dim='obs')).where(cum_distance_nT[ii].max(dim='obs') != 0., drop=True)).data\n",
    "    dist_cum_a.append(aa) #= (distance_nT[ii].max(dim='obs')).where(distance_nT[ii].max(dim='obs') != 0., drop=True)\n",
    "    bb = ((cum_distance_wT[ii].max(dim='obs')).where(cum_distance_wT[ii].max(dim='obs') != 0., drop=True)).data\n",
    "    dist_cum_b.append(bb) \n",
    "    "
   ]
  },
  {
   "cell_type": "code",
   "execution_count": 29,
   "metadata": {},
   "outputs": [],
   "source": [
    "dist_tot_nT = []\n",
    "dist_tot_wT = []\n",
    "\n",
    "for ii in range(0, len(labels)):\n",
    "    aa = (dist_tot_km_nT[ii].lon.where(dist_tot_km_nT[ii].lon!=0, drop=True)).data\n",
    "    dist_tot_nT.append(aa) \n",
    "    bb = (dist_tot_km_wT[ii].lon.where(dist_tot_km_wT[ii].lon!=0, drop=True)).data\n",
    "    dist_tot_wT.append(bb) "
   ]
  },
  {
   "cell_type": "code",
   "execution_count": 37,
   "metadata": {},
   "outputs": [
    {
     "data": {
      "image/png": "[encoded data removed]",
      "text/plain": [
       "<Figure size 1008x1008 with 2 Axes>"
      ]
     },
     "metadata": {
      "needs_background": "light"
     },
     "output_type": "display_data"
    }
   ],
   "source": [
    "ticks = labels\n",
    "\n",
    "def set_box_color(bp, color):\n",
    "    plt.setp(bp['boxes'], color=color)\n",
    "    plt.setp(bp['whiskers'], color=color)\n",
    "    plt.setp(bp['caps'], color=color)\n",
    "    plt.setp(bp['medians'], color=color)\n",
    "#     plt.setp(bp['facecolor'], color=color)\n",
    "\n",
    "plt.figure(figsize=(14,14))\n",
    "ax1 = plt.subplot(211)\n",
    "\n",
    "bpl = ax1.boxplot(dist_cum_a, positions=np.array(range(len(dist_cum_a)))*2.0-0.4, sym='', widths=0.6)\n",
    "bpr = ax1.boxplot(dist_cum_b, positions=np.array(range(len(dist_cum_b)))*2.0+0.4, sym='', widths=0.6)\n",
    "set_box_color(bpl, 'C0') # colors are from http://colorbrewer2.org/\n",
    "set_box_color(bpr, 'C3')\n",
    "\n",
    "# draw temporary red and blue lines and use them to create a legend\n",
    "plt.plot([], c='C0', label='No tidal forcing')\n",
    "plt.plot([], c='C3', label='Tidal forcing')\n",
    "plt.legend(fontsize=14)\n",
    "# ax.legend(fontsize=14)\n",
    "\n",
    "plt.xticks(range(0, len(ticks) * 2, 2), ticks, fontsize=14)\n",
    "plt.yticks(fontsize=14)\n",
    "plt.xlim(-2, len(ticks)*2)\n",
    "plt.ylim(0, 850)\n",
    "ax1.set_xticklabels(labels, rotation=45, horizontalalignment='right')\n",
    "# plt.grid()\n",
    "ax1.yaxis.grid()\n",
    "ax1.set_ylabel('Cumulative distance [km]', size=16)\n",
    "\n",
    "ax1 = plt.subplot(212)\n",
    "\n",
    "bpl = ax1.boxplot(dist_tot_nT, positions=np.array(range(len(dist_tot_nT)))*2.0-0.4, sym='', widths=0.6)\n",
    "bpr = ax1.boxplot(dist_tot_wT, positions=np.array(range(len(dist_tot_wT)))*2.0+0.4, sym='', widths=0.6)\n",
    "set_box_color(bpl, 'C0') # colors are from http://colorbrewer2.org/\n",
    "set_box_color(bpr, 'C3')\n",
    "\n",
    "# draw temporary red and blue lines and use them to create a legend\n",
    "plt.plot([], c='C0', label='No tidal forcing')\n",
    "plt.plot([], c='C3', label='Tidal forcing')\n",
    "plt.legend(fontsize=14)\n",
    "# ax.legend(fontsize=14)\n",
    "\n",
    "plt.xticks(range(0, len(ticks) * 2, 2), ticks, fontsize=14)\n",
    "plt.yticks(fontsize=14)\n",
    "plt.xlim(-2, len(ticks)*2)\n",
    "plt.ylim(0, 550)\n",
    "ax1.set_xticklabels(labels, rotation=45, horizontalalignment='right')\n",
    "# plt.grid()\n",
    "ax1.yaxis.grid()\n",
    "ax1.set_ylabel('Total distance [km]', size=16)\n",
    "\n",
    "\n",
    "plt.tight_layout()\n",
    "plt.savefig('figs/cumsum_km_and_total_dist_km_BOXPLOT_01.jpg', dpi=300)\n"
   ]
  },
  {
   "cell_type": "code",
   "execution_count": 39,
   "metadata": {},
   "outputs": [
    {
     "name": "stdout",
     "output_type": "stream",
     "text": [
      "(105982,)\n",
      "308.3439172926735\n",
      "(105986,)\n",
      "310.51935317111895\n",
      "(106001,)\n",
      "306.94441790173295\n",
      "(106001,)\n",
      "305.2545128875703\n",
      "(105987,)\n",
      "310.4555007182026\n",
      "(105980,)\n",
      "312.08627244397036\n",
      "(106001,)\n",
      "335.65335275167615\n",
      "(105998,)\n",
      "311.0272799625281\n",
      "(105977,)\n",
      "323.7093247594509\n",
      "(105993,)\n",
      "317.4730808528061\n",
      "(105989,)\n",
      "309.3408928669787\n",
      "(105999,)\n",
      "315.2765696806569\n"
     ]
    }
   ],
   "source": [
    "med_nT_cum = np.ones((12,1)) * np.nan\n",
    "ii=0\n",
    "for dist_nT in dist_cum_a:\n",
    "    print(dist_nT.shape)\n",
    "    print(np.median(dist_nT))\n",
    "    med_nT_cum[ii] = np.median(dist_nT)\n",
    "    ii+=1\n",
    "        "
   ]
  },
  {
   "cell_type": "code",
   "execution_count": 43,
   "metadata": {},
   "outputs": [],
   "source": [
    "med_nT_cum = np.ones((12,1)) * np.nan\n",
    "med_wT_cum = np.ones((12,1)) * np.nan\n",
    "med_nT_tot = np.ones((12,1)) * np.nan\n",
    "med_wT_tot = np.ones((12,1)) * np.nan\n",
    "\n",
    "for ii in range(0,12) : \n",
    "    med_nT_cum[ii] = np.median(dist_cum_a[ii])\n",
    "    med_wT_cum[ii] = np.median(dist_cum_b[ii])\n",
    "    med_nT_tot[ii] = np.median(dist_tot_nT[ii])\n",
    "    med_wT_tot[ii] = np.median(dist_tot_wT[ii])"
   ]
  },
  {
   "cell_type": "code",
   "execution_count": 44,
   "metadata": {},
   "outputs": [
    {
     "data": {
      "text/plain": [
       "array([[19.80874162],\n",
       "       [24.76799229],\n",
       "       [20.53769217],\n",
       "       [15.80341937],\n",
       "       [12.84811164],\n",
       "       [11.70896359],\n",
       "       [ 5.8492576 ],\n",
       "       [ 3.74907795],\n",
       "       [ 4.57885321],\n",
       "       [ 8.01723845],\n",
       "       [11.02681397],\n",
       "       [ 9.52549734]])"
      ]
     },
     "execution_count": 44,
     "metadata": {},
     "output_type": "execute_result"
    }
   ],
   "source": [
    "((med_wT_cum - med_nT_cum) / med_nT_cum) * 100\n",
    "    "
   ]
  },
  {
   "cell_type": "code",
   "execution_count": 34,
   "metadata": {},
   "outputs": [
    {
     "data": {
      "text/plain": [
       "array([[ 3.5587077 ],\n",
       "       [ 2.78053888],\n",
       "       [ 2.8803256 ],\n",
       "       [ 3.27192786],\n",
       "       [ 5.25092458],\n",
       "       [ 5.11680199],\n",
       "       [ 3.96482035],\n",
       "       [ 1.3939147 ],\n",
       "       [ 2.04201031],\n",
       "       [-0.53058902],\n",
       "       [ 0.76272152],\n",
       "       [ 1.18071602]])"
      ]
     },
     "execution_count": 34,
     "metadata": {},
     "output_type": "execute_result"
    }
   ],
   "source": [
    "((med_nT_tot - med_wT_tot) / med_wT_tot) * 100\n"
   ]
  },
  {
   "cell_type": "code",
   "execution_count": null,
   "metadata": {},
   "outputs": [],
   "source": []
  }
 ],
 "metadata": {
  "kernelspec": {
   "display_name": "Python 3 (ipykernel)",
   "language": "python",
   "name": "python3"
  },
  "language_info": {
   "codemirror_mode": {
    "name": "ipython",
    "version": 3
   },
   "file_extension": ".py",
   "mimetype": "text/x-python",
   "name": "python",
   "nbconvert_exporter": "python",
   "pygments_lexer": "ipython3",
   "version": "3.8.11"
  }
 },
 "nbformat": 4,
 "nbformat_minor": 4
}
